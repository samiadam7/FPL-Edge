{
 "cells": [
  {
   "cell_type": "markdown",
   "metadata": {},
   "source": [
    "# Initial Data Search"
   ]
  },
  {
   "cell_type": "markdown",
   "metadata": {},
   "source": [
    "## Setup"
   ]
  },
  {
   "cell_type": "code",
   "execution_count": 1,
   "metadata": {},
   "outputs": [],
   "source": [
    "import pandas as pd\n",
    "import plotly.express as px\n",
    "from plotly.subplots import make_subplots\n",
    "import plotly.graph_objects as go\n",
    "import seaborn as sns\n",
    "import matplotlib.pyplot as plt\n",
    "from matplotlib.pyplot import subplots\n",
    "import numpy as np"
   ]
  },
  {
   "cell_type": "markdown",
   "metadata": {},
   "source": [
    "## FPL 2023/2024 Data"
   ]
  },
  {
   "cell_type": "markdown",
   "metadata": {},
   "source": [
    "### Reading Data"
   ]
  },
  {
   "cell_type": "code",
   "execution_count": 2,
   "metadata": {},
   "outputs": [
    {
     "name": "stdout",
     "output_type": "stream",
     "text": [
      "(29725, 41)\n",
      "Index(['name', 'position', 'team', 'xP', 'assists', 'bonus', 'bps',\n",
      "       'clean_sheets', 'creativity', 'element', 'expected_assists',\n",
      "       'expected_goal_involvements', 'expected_goals',\n",
      "       'expected_goals_conceded', 'fixture', 'goals_conceded', 'goals_scored',\n",
      "       'ict_index', 'influence', 'kickoff_time', 'minutes', 'opponent_team',\n",
      "       'own_goals', 'penalties_missed', 'penalties_saved', 'red_cards',\n",
      "       'round', 'saves', 'selected', 'starts', 'team_a_score', 'team_h_score',\n",
      "       'threat', 'total_points', 'transfers_balance', 'transfers_in',\n",
      "       'transfers_out', 'value', 'was_home', 'yellow_cards', 'GW'],\n",
      "      dtype='object')\n"
     ]
    }
   ],
   "source": [
    "gw_url = \"https://raw.githubusercontent.com/vaastav/Fantasy-Premier-League/master/data/2023-24/gws/merged_gw.csv\"\n",
    "\n",
    "df_og = pd.read_csv(gw_url)\n",
    "print(df_og.shape)\n",
    "print(df_og.columns)\n",
    "\n",
    "# Saving a original df\n",
    "df_og[\"value\"] = df_og[\"value\"]/ 10\n",
    "df = df_og.copy()"
   ]
  },
  {
   "cell_type": "code",
   "execution_count": 3,
   "metadata": {},
   "outputs": [
    {
     "data": {
      "text/html": [
       "<div>\n",
       "<style scoped>\n",
       "    .dataframe tbody tr th:only-of-type {\n",
       "        vertical-align: middle;\n",
       "    }\n",
       "\n",
       "    .dataframe tbody tr th {\n",
       "        vertical-align: top;\n",
       "    }\n",
       "\n",
       "    .dataframe thead th {\n",
       "        text-align: right;\n",
       "    }\n",
       "</style>\n",
       "<table border=\"1\" class=\"dataframe\">\n",
       "  <thead>\n",
       "    <tr style=\"text-align: right;\">\n",
       "      <th></th>\n",
       "      <th>name</th>\n",
       "      <th>position</th>\n",
       "      <th>team</th>\n",
       "      <th>xP</th>\n",
       "      <th>assists</th>\n",
       "      <th>bonus</th>\n",
       "      <th>bps</th>\n",
       "      <th>clean_sheets</th>\n",
       "      <th>creativity</th>\n",
       "      <th>element</th>\n",
       "      <th>...</th>\n",
       "      <th>transfers_balance</th>\n",
       "      <th>transfers_in</th>\n",
       "      <th>transfers_out</th>\n",
       "      <th>value</th>\n",
       "      <th>was_home</th>\n",
       "      <th>yellow_cards</th>\n",
       "      <th>GW</th>\n",
       "      <th>season</th>\n",
       "      <th>team_y</th>\n",
       "      <th>team_name</th>\n",
       "    </tr>\n",
       "  </thead>\n",
       "  <tbody>\n",
       "    <tr>\n",
       "      <th>0</th>\n",
       "      <td>Femi Seriki</td>\n",
       "      <td>DEF</td>\n",
       "      <td>Sheffield Utd</td>\n",
       "      <td>0.5</td>\n",
       "      <td>0</td>\n",
       "      <td>0</td>\n",
       "      <td>0</td>\n",
       "      <td>0</td>\n",
       "      <td>0.0</td>\n",
       "      <td>653</td>\n",
       "      <td>...</td>\n",
       "      <td>0</td>\n",
       "      <td>0</td>\n",
       "      <td>0</td>\n",
       "      <td>4.0</td>\n",
       "      <td>True</td>\n",
       "      <td>0</td>\n",
       "      <td>1</td>\n",
       "      <td>2023-24</td>\n",
       "      <td>8</td>\n",
       "      <td>Crystal Palace</td>\n",
       "    </tr>\n",
       "    <tr>\n",
       "      <th>1</th>\n",
       "      <td>Jack Hinshelwood</td>\n",
       "      <td>MID</td>\n",
       "      <td>Brighton</td>\n",
       "      <td>1.5</td>\n",
       "      <td>0</td>\n",
       "      <td>0</td>\n",
       "      <td>0</td>\n",
       "      <td>0</td>\n",
       "      <td>0.0</td>\n",
       "      <td>621</td>\n",
       "      <td>...</td>\n",
       "      <td>0</td>\n",
       "      <td>0</td>\n",
       "      <td>0</td>\n",
       "      <td>4.5</td>\n",
       "      <td>True</td>\n",
       "      <td>0</td>\n",
       "      <td>1</td>\n",
       "      <td>2023-24</td>\n",
       "      <td>12</td>\n",
       "      <td>Luton</td>\n",
       "    </tr>\n",
       "    <tr>\n",
       "      <th>2</th>\n",
       "      <td>Jadon Sancho</td>\n",
       "      <td>MID</td>\n",
       "      <td>Man Utd</td>\n",
       "      <td>3.0</td>\n",
       "      <td>0</td>\n",
       "      <td>0</td>\n",
       "      <td>4</td>\n",
       "      <td>0</td>\n",
       "      <td>11.3</td>\n",
       "      <td>397</td>\n",
       "      <td>...</td>\n",
       "      <td>0</td>\n",
       "      <td>0</td>\n",
       "      <td>0</td>\n",
       "      <td>7.0</td>\n",
       "      <td>True</td>\n",
       "      <td>0</td>\n",
       "      <td>1</td>\n",
       "      <td>2023-24</td>\n",
       "      <td>20</td>\n",
       "      <td>Wolves</td>\n",
       "    </tr>\n",
       "    <tr>\n",
       "      <th>3</th>\n",
       "      <td>Rhys Norrington-Davies</td>\n",
       "      <td>DEF</td>\n",
       "      <td>Sheffield Utd</td>\n",
       "      <td>0.1</td>\n",
       "      <td>0</td>\n",
       "      <td>0</td>\n",
       "      <td>0</td>\n",
       "      <td>0</td>\n",
       "      <td>0.0</td>\n",
       "      <td>487</td>\n",
       "      <td>...</td>\n",
       "      <td>0</td>\n",
       "      <td>0</td>\n",
       "      <td>0</td>\n",
       "      <td>4.0</td>\n",
       "      <td>True</td>\n",
       "      <td>0</td>\n",
       "      <td>1</td>\n",
       "      <td>2023-24</td>\n",
       "      <td>8</td>\n",
       "      <td>Crystal Palace</td>\n",
       "    </tr>\n",
       "    <tr>\n",
       "      <th>4</th>\n",
       "      <td>Vitaly Janelt</td>\n",
       "      <td>MID</td>\n",
       "      <td>Brentford</td>\n",
       "      <td>2.1</td>\n",
       "      <td>0</td>\n",
       "      <td>0</td>\n",
       "      <td>6</td>\n",
       "      <td>0</td>\n",
       "      <td>11.5</td>\n",
       "      <td>105</td>\n",
       "      <td>...</td>\n",
       "      <td>0</td>\n",
       "      <td>0</td>\n",
       "      <td>0</td>\n",
       "      <td>5.5</td>\n",
       "      <td>True</td>\n",
       "      <td>0</td>\n",
       "      <td>1</td>\n",
       "      <td>2023-24</td>\n",
       "      <td>18</td>\n",
       "      <td>Spurs</td>\n",
       "    </tr>\n",
       "  </tbody>\n",
       "</table>\n",
       "<p>5 rows × 44 columns</p>\n",
       "</div>"
      ],
      "text/plain": [
       "                     name position           team   xP  assists  bonus  bps  \\\n",
       "0             Femi Seriki      DEF  Sheffield Utd  0.5        0      0    0   \n",
       "1        Jack Hinshelwood      MID       Brighton  1.5        0      0    0   \n",
       "2            Jadon Sancho      MID        Man Utd  3.0        0      0    4   \n",
       "3  Rhys Norrington-Davies      DEF  Sheffield Utd  0.1        0      0    0   \n",
       "4           Vitaly Janelt      MID      Brentford  2.1        0      0    6   \n",
       "\n",
       "   clean_sheets  creativity  element  ...  transfers_balance  transfers_in  \\\n",
       "0             0         0.0      653  ...                  0             0   \n",
       "1             0         0.0      621  ...                  0             0   \n",
       "2             0        11.3      397  ...                  0             0   \n",
       "3             0         0.0      487  ...                  0             0   \n",
       "4             0        11.5      105  ...                  0             0   \n",
       "\n",
       "   transfers_out  value  was_home  yellow_cards  GW   season  team_y  \\\n",
       "0              0    4.0      True             0   1  2023-24       8   \n",
       "1              0    4.5      True             0   1  2023-24      12   \n",
       "2              0    7.0      True             0   1  2023-24      20   \n",
       "3              0    4.0      True             0   1  2023-24       8   \n",
       "4              0    5.5      True             0   1  2023-24      18   \n",
       "\n",
       "        team_name  \n",
       "0  Crystal Palace  \n",
       "1           Luton  \n",
       "2          Wolves  \n",
       "3  Crystal Palace  \n",
       "4           Spurs  \n",
       "\n",
       "[5 rows x 44 columns]"
      ]
     },
     "execution_count": 3,
     "metadata": {},
     "output_type": "execute_result"
    }
   ],
   "source": [
    "club_url = \"https://raw.githubusercontent.com/vaastav/Fantasy-Premier-League/master/data/master_team_list.csv\"\n",
    "df_club = pd.read_csv(club_url)\n",
    "\n",
    "df = df.merge(df_club[df_club[\"season\"] == \"2023-24\"], left_on= \"opponent_team\", right_on= \"team\", suffixes=[\"\", \"_y\"])\n",
    "df.head()"
   ]
  },
  {
   "cell_type": "code",
   "execution_count": 4,
   "metadata": {},
   "outputs": [
    {
     "data": {
      "text/html": [
       "<div>\n",
       "<style scoped>\n",
       "    .dataframe tbody tr th:only-of-type {\n",
       "        vertical-align: middle;\n",
       "    }\n",
       "\n",
       "    .dataframe tbody tr th {\n",
       "        vertical-align: top;\n",
       "    }\n",
       "\n",
       "    .dataframe thead th {\n",
       "        text-align: right;\n",
       "    }\n",
       "</style>\n",
       "<table border=\"1\" class=\"dataframe\">\n",
       "  <thead>\n",
       "    <tr style=\"text-align: right;\">\n",
       "      <th></th>\n",
       "      <th>name</th>\n",
       "      <th>position</th>\n",
       "      <th>team</th>\n",
       "      <th>xP</th>\n",
       "      <th>assists</th>\n",
       "      <th>bonus</th>\n",
       "      <th>bps</th>\n",
       "      <th>clean_sheets</th>\n",
       "      <th>creativity</th>\n",
       "      <th>element</th>\n",
       "      <th>...</th>\n",
       "      <th>threat</th>\n",
       "      <th>total_points</th>\n",
       "      <th>transfers_balance</th>\n",
       "      <th>transfers_in</th>\n",
       "      <th>transfers_out</th>\n",
       "      <th>value</th>\n",
       "      <th>was_home</th>\n",
       "      <th>yellow_cards</th>\n",
       "      <th>GW</th>\n",
       "      <th>opponent_team</th>\n",
       "    </tr>\n",
       "  </thead>\n",
       "  <tbody>\n",
       "    <tr>\n",
       "      <th>0</th>\n",
       "      <td>Femi Seriki</td>\n",
       "      <td>DEF</td>\n",
       "      <td>Sheffield Utd</td>\n",
       "      <td>0.5</td>\n",
       "      <td>0</td>\n",
       "      <td>0</td>\n",
       "      <td>0</td>\n",
       "      <td>0</td>\n",
       "      <td>0.0</td>\n",
       "      <td>653</td>\n",
       "      <td>...</td>\n",
       "      <td>0.0</td>\n",
       "      <td>0</td>\n",
       "      <td>0</td>\n",
       "      <td>0</td>\n",
       "      <td>0</td>\n",
       "      <td>4.0</td>\n",
       "      <td>True</td>\n",
       "      <td>0</td>\n",
       "      <td>1</td>\n",
       "      <td>Crystal Palace</td>\n",
       "    </tr>\n",
       "    <tr>\n",
       "      <th>1</th>\n",
       "      <td>Jack Hinshelwood</td>\n",
       "      <td>MID</td>\n",
       "      <td>Brighton</td>\n",
       "      <td>1.5</td>\n",
       "      <td>0</td>\n",
       "      <td>0</td>\n",
       "      <td>0</td>\n",
       "      <td>0</td>\n",
       "      <td>0.0</td>\n",
       "      <td>621</td>\n",
       "      <td>...</td>\n",
       "      <td>0.0</td>\n",
       "      <td>0</td>\n",
       "      <td>0</td>\n",
       "      <td>0</td>\n",
       "      <td>0</td>\n",
       "      <td>4.5</td>\n",
       "      <td>True</td>\n",
       "      <td>0</td>\n",
       "      <td>1</td>\n",
       "      <td>Luton</td>\n",
       "    </tr>\n",
       "    <tr>\n",
       "      <th>2</th>\n",
       "      <td>Jadon Sancho</td>\n",
       "      <td>MID</td>\n",
       "      <td>Man Utd</td>\n",
       "      <td>3.0</td>\n",
       "      <td>0</td>\n",
       "      <td>0</td>\n",
       "      <td>4</td>\n",
       "      <td>0</td>\n",
       "      <td>11.3</td>\n",
       "      <td>397</td>\n",
       "      <td>...</td>\n",
       "      <td>8.0</td>\n",
       "      <td>1</td>\n",
       "      <td>0</td>\n",
       "      <td>0</td>\n",
       "      <td>0</td>\n",
       "      <td>7.0</td>\n",
       "      <td>True</td>\n",
       "      <td>0</td>\n",
       "      <td>1</td>\n",
       "      <td>Wolves</td>\n",
       "    </tr>\n",
       "    <tr>\n",
       "      <th>3</th>\n",
       "      <td>Rhys Norrington-Davies</td>\n",
       "      <td>DEF</td>\n",
       "      <td>Sheffield Utd</td>\n",
       "      <td>0.1</td>\n",
       "      <td>0</td>\n",
       "      <td>0</td>\n",
       "      <td>0</td>\n",
       "      <td>0</td>\n",
       "      <td>0.0</td>\n",
       "      <td>487</td>\n",
       "      <td>...</td>\n",
       "      <td>0.0</td>\n",
       "      <td>0</td>\n",
       "      <td>0</td>\n",
       "      <td>0</td>\n",
       "      <td>0</td>\n",
       "      <td>4.0</td>\n",
       "      <td>True</td>\n",
       "      <td>0</td>\n",
       "      <td>1</td>\n",
       "      <td>Crystal Palace</td>\n",
       "    </tr>\n",
       "    <tr>\n",
       "      <th>4</th>\n",
       "      <td>Vitaly Janelt</td>\n",
       "      <td>MID</td>\n",
       "      <td>Brentford</td>\n",
       "      <td>2.1</td>\n",
       "      <td>0</td>\n",
       "      <td>0</td>\n",
       "      <td>6</td>\n",
       "      <td>0</td>\n",
       "      <td>11.5</td>\n",
       "      <td>105</td>\n",
       "      <td>...</td>\n",
       "      <td>17.0</td>\n",
       "      <td>2</td>\n",
       "      <td>0</td>\n",
       "      <td>0</td>\n",
       "      <td>0</td>\n",
       "      <td>5.5</td>\n",
       "      <td>True</td>\n",
       "      <td>0</td>\n",
       "      <td>1</td>\n",
       "      <td>Spurs</td>\n",
       "    </tr>\n",
       "  </tbody>\n",
       "</table>\n",
       "<p>5 rows × 41 columns</p>\n",
       "</div>"
      ],
      "text/plain": [
       "                     name position           team   xP  assists  bonus  bps  \\\n",
       "0             Femi Seriki      DEF  Sheffield Utd  0.5        0      0    0   \n",
       "1        Jack Hinshelwood      MID       Brighton  1.5        0      0    0   \n",
       "2            Jadon Sancho      MID        Man Utd  3.0        0      0    4   \n",
       "3  Rhys Norrington-Davies      DEF  Sheffield Utd  0.1        0      0    0   \n",
       "4           Vitaly Janelt      MID      Brentford  2.1        0      0    6   \n",
       "\n",
       "   clean_sheets  creativity  element  ...  threat  total_points  \\\n",
       "0             0         0.0      653  ...     0.0             0   \n",
       "1             0         0.0      621  ...     0.0             0   \n",
       "2             0        11.3      397  ...     8.0             1   \n",
       "3             0         0.0      487  ...     0.0             0   \n",
       "4             0        11.5      105  ...    17.0             2   \n",
       "\n",
       "   transfers_balance  transfers_in  transfers_out  value  was_home  \\\n",
       "0                  0             0              0    4.0      True   \n",
       "1                  0             0              0    4.5      True   \n",
       "2                  0             0              0    7.0      True   \n",
       "3                  0             0              0    4.0      True   \n",
       "4                  0             0              0    5.5      True   \n",
       "\n",
       "   yellow_cards  GW   opponent_team  \n",
       "0             0   1  Crystal Palace  \n",
       "1             0   1           Luton  \n",
       "2             0   1          Wolves  \n",
       "3             0   1  Crystal Palace  \n",
       "4             0   1           Spurs  \n",
       "\n",
       "[5 rows x 41 columns]"
      ]
     },
     "execution_count": 4,
     "metadata": {},
     "output_type": "execute_result"
    }
   ],
   "source": [
    "df.drop(columns= [\"season\", \"team_y\", \"opponent_team\"], inplace= True)\n",
    "df.rename(columns= {\"team_name\": \"opponent_team\"}, inplace= True)\n",
    "\n",
    "df.head()"
   ]
  },
  {
   "cell_type": "markdown",
   "metadata": {},
   "source": [
    "### Data Exploration"
   ]
  },
  {
   "cell_type": "code",
   "execution_count": 5,
   "metadata": {},
   "outputs": [
    {
     "data": {
      "text/plain": [
       "Index(['name', 'position', 'team', 'xP', 'assists', 'bonus', 'bps',\n",
       "       'clean_sheets', 'creativity', 'element', 'expected_assists',\n",
       "       'expected_goal_involvements', 'expected_goals',\n",
       "       'expected_goals_conceded', 'fixture', 'goals_conceded', 'goals_scored',\n",
       "       'ict_index', 'influence', 'kickoff_time', 'minutes', 'own_goals',\n",
       "       'penalties_missed', 'penalties_saved', 'red_cards', 'round', 'saves',\n",
       "       'selected', 'starts', 'team_a_score', 'team_h_score', 'threat',\n",
       "       'total_points', 'transfers_balance', 'transfers_in', 'transfers_out',\n",
       "       'value', 'was_home', 'yellow_cards', 'GW', 'opponent_team'],\n",
       "      dtype='object')"
      ]
     },
     "execution_count": 5,
     "metadata": {},
     "output_type": "execute_result"
    }
   ],
   "source": [
    "df.columns"
   ]
  },
  {
   "cell_type": "code",
   "execution_count": 6,
   "metadata": {},
   "outputs": [],
   "source": [
    "cols_to_drop = ['transfers_balance', 'transfers_in',\n",
    "       'transfers_out', 'value', 'kickoff_time', 'round', 'fixture', 'round', 'GW']\n",
    "\n",
    "# cols_look = ['fixture', \"kickoff_time\", \"opponent_team\", \"round\", \"selected\", \"starts\", 'team_a_score', 'team_h_score',\n",
    "#        'threat', 'total_points', \"GW\"]\n",
    "\n",
    "# df[df[\"name\"] == \"Cole Palmer\"][cols_look]\n",
    "\n",
    "df.drop(columns= cols_to_drop, inplace= True)\n"
   ]
  },
  {
   "cell_type": "code",
   "execution_count": 7,
   "metadata": {},
   "outputs": [
    {
     "data": {
      "text/html": [
       "<div>\n",
       "<style scoped>\n",
       "    .dataframe tbody tr th:only-of-type {\n",
       "        vertical-align: middle;\n",
       "    }\n",
       "\n",
       "    .dataframe tbody tr th {\n",
       "        vertical-align: top;\n",
       "    }\n",
       "\n",
       "    .dataframe thead th {\n",
       "        text-align: right;\n",
       "    }\n",
       "</style>\n",
       "<table border=\"1\" class=\"dataframe\">\n",
       "  <thead>\n",
       "    <tr style=\"text-align: right;\">\n",
       "      <th></th>\n",
       "      <th>name</th>\n",
       "      <th>position</th>\n",
       "      <th>team</th>\n",
       "      <th>xP</th>\n",
       "      <th>assists</th>\n",
       "      <th>bonus</th>\n",
       "      <th>bps</th>\n",
       "      <th>clean_sheets</th>\n",
       "      <th>creativity</th>\n",
       "      <th>element</th>\n",
       "      <th>...</th>\n",
       "      <th>saves</th>\n",
       "      <th>selected</th>\n",
       "      <th>starts</th>\n",
       "      <th>team_a_score</th>\n",
       "      <th>team_h_score</th>\n",
       "      <th>threat</th>\n",
       "      <th>total_points</th>\n",
       "      <th>was_home</th>\n",
       "      <th>yellow_cards</th>\n",
       "      <th>opponent_team</th>\n",
       "    </tr>\n",
       "  </thead>\n",
       "  <tbody>\n",
       "    <tr>\n",
       "      <th>2505</th>\n",
       "      <td>Cole Palmer</td>\n",
       "      <td>MID</td>\n",
       "      <td>Chelsea</td>\n",
       "      <td>0.5</td>\n",
       "      <td>0</td>\n",
       "      <td>0</td>\n",
       "      <td>7</td>\n",
       "      <td>0</td>\n",
       "      <td>17.3</td>\n",
       "      <td>362</td>\n",
       "      <td>...</td>\n",
       "      <td>0</td>\n",
       "      <td>16665</td>\n",
       "      <td>0</td>\n",
       "      <td>1</td>\n",
       "      <td>0</td>\n",
       "      <td>4.0</td>\n",
       "      <td>1</td>\n",
       "      <td>True</td>\n",
       "      <td>0</td>\n",
       "      <td>Nott'm Forest</td>\n",
       "    </tr>\n",
       "    <tr>\n",
       "      <th>3218</th>\n",
       "      <td>Cole Palmer</td>\n",
       "      <td>MID</td>\n",
       "      <td>Chelsea</td>\n",
       "      <td>0.7</td>\n",
       "      <td>0</td>\n",
       "      <td>0</td>\n",
       "      <td>4</td>\n",
       "      <td>0</td>\n",
       "      <td>11.6</td>\n",
       "      <td>362</td>\n",
       "      <td>...</td>\n",
       "      <td>0</td>\n",
       "      <td>21699</td>\n",
       "      <td>0</td>\n",
       "      <td>0</td>\n",
       "      <td>0</td>\n",
       "      <td>19.0</td>\n",
       "      <td>1</td>\n",
       "      <td>False</td>\n",
       "      <td>0</td>\n",
       "      <td>Bournemouth</td>\n",
       "    </tr>\n",
       "    <tr>\n",
       "      <th>3936</th>\n",
       "      <td>Cole Palmer</td>\n",
       "      <td>MID</td>\n",
       "      <td>Chelsea</td>\n",
       "      <td>0.8</td>\n",
       "      <td>0</td>\n",
       "      <td>0</td>\n",
       "      <td>5</td>\n",
       "      <td>0</td>\n",
       "      <td>22.8</td>\n",
       "      <td>362</td>\n",
       "      <td>...</td>\n",
       "      <td>0</td>\n",
       "      <td>21434</td>\n",
       "      <td>0</td>\n",
       "      <td>1</td>\n",
       "      <td>0</td>\n",
       "      <td>7.0</td>\n",
       "      <td>1</td>\n",
       "      <td>True</td>\n",
       "      <td>0</td>\n",
       "      <td>Aston Villa</td>\n",
       "    </tr>\n",
       "    <tr>\n",
       "      <th>4723</th>\n",
       "      <td>Cole Palmer</td>\n",
       "      <td>MID</td>\n",
       "      <td>Chelsea</td>\n",
       "      <td>2.3</td>\n",
       "      <td>1</td>\n",
       "      <td>0</td>\n",
       "      <td>17</td>\n",
       "      <td>1</td>\n",
       "      <td>22.4</td>\n",
       "      <td>362</td>\n",
       "      <td>...</td>\n",
       "      <td>0</td>\n",
       "      <td>25621</td>\n",
       "      <td>1</td>\n",
       "      <td>2</td>\n",
       "      <td>0</td>\n",
       "      <td>9.0</td>\n",
       "      <td>5</td>\n",
       "      <td>False</td>\n",
       "      <td>1</td>\n",
       "      <td>Fulham</td>\n",
       "    </tr>\n",
       "    <tr>\n",
       "      <th>5465</th>\n",
       "      <td>Cole Palmer</td>\n",
       "      <td>MID</td>\n",
       "      <td>Chelsea</td>\n",
       "      <td>6.5</td>\n",
       "      <td>1</td>\n",
       "      <td>2</td>\n",
       "      <td>36</td>\n",
       "      <td>0</td>\n",
       "      <td>26.3</td>\n",
       "      <td>362</td>\n",
       "      <td>...</td>\n",
       "      <td>0</td>\n",
       "      <td>63575</td>\n",
       "      <td>1</td>\n",
       "      <td>4</td>\n",
       "      <td>1</td>\n",
       "      <td>28.0</td>\n",
       "      <td>12</td>\n",
       "      <td>False</td>\n",
       "      <td>0</td>\n",
       "      <td>Burnley</td>\n",
       "    </tr>\n",
       "  </tbody>\n",
       "</table>\n",
       "<p>5 rows × 33 columns</p>\n",
       "</div>"
      ],
      "text/plain": [
       "             name position     team   xP  assists  bonus  bps  clean_sheets  \\\n",
       "2505  Cole Palmer      MID  Chelsea  0.5        0      0    7             0   \n",
       "3218  Cole Palmer      MID  Chelsea  0.7        0      0    4             0   \n",
       "3936  Cole Palmer      MID  Chelsea  0.8        0      0    5             0   \n",
       "4723  Cole Palmer      MID  Chelsea  2.3        1      0   17             1   \n",
       "5465  Cole Palmer      MID  Chelsea  6.5        1      2   36             0   \n",
       "\n",
       "      creativity  element  ...  saves  selected  starts  team_a_score  \\\n",
       "2505        17.3      362  ...      0     16665       0             1   \n",
       "3218        11.6      362  ...      0     21699       0             0   \n",
       "3936        22.8      362  ...      0     21434       0             1   \n",
       "4723        22.4      362  ...      0     25621       1             2   \n",
       "5465        26.3      362  ...      0     63575       1             4   \n",
       "\n",
       "      team_h_score  threat  total_points  was_home  yellow_cards  \\\n",
       "2505             0     4.0             1      True             0   \n",
       "3218             0    19.0             1     False             0   \n",
       "3936             0     7.0             1      True             0   \n",
       "4723             0     9.0             5     False             1   \n",
       "5465             1    28.0            12     False             0   \n",
       "\n",
       "      opponent_team  \n",
       "2505  Nott'm Forest  \n",
       "3218    Bournemouth  \n",
       "3936    Aston Villa  \n",
       "4723         Fulham  \n",
       "5465        Burnley  \n",
       "\n",
       "[5 rows x 33 columns]"
      ]
     },
     "execution_count": 7,
     "metadata": {},
     "output_type": "execute_result"
    }
   ],
   "source": [
    "cole = df[\"name\"] == \"Cole Palmer\"\n",
    "chels = df[\"team\"] == \"Chelsea\"\n",
    "\n",
    "df[cole & chels].head()"
   ]
  },
  {
   "cell_type": "code",
   "execution_count": 8,
   "metadata": {},
   "outputs": [
    {
     "data": {
      "text/plain": [
       "Index(['name', 'position', 'team', 'xP', 'assists', 'bonus', 'bps',\n",
       "       'clean_sheets', 'creativity', 'element', 'expected_assists',\n",
       "       'expected_goal_involvements', 'expected_goals',\n",
       "       'expected_goals_conceded', 'goals_conceded', 'goals_scored',\n",
       "       'ict_index', 'influence', 'minutes', 'own_goals', 'penalties_missed',\n",
       "       'penalties_saved', 'red_cards', 'saves', 'selected', 'starts',\n",
       "       'team_a_score', 'team_h_score', 'threat', 'total_points', 'was_home',\n",
       "       'yellow_cards', 'opponent_team'],\n",
       "      dtype='object')"
      ]
     },
     "execution_count": 8,
     "metadata": {},
     "output_type": "execute_result"
    }
   ],
   "source": [
    "df.columns"
   ]
  },
  {
   "cell_type": "markdown",
   "metadata": {},
   "source": [
    "### Plotting"
   ]
  },
  {
   "cell_type": "code",
   "execution_count": 9,
   "metadata": {},
   "outputs": [
    {
     "data": {
      "text/html": [
       "<div>\n",
       "<style scoped>\n",
       "    .dataframe tbody tr th:only-of-type {\n",
       "        vertical-align: middle;\n",
       "    }\n",
       "\n",
       "    .dataframe tbody tr th {\n",
       "        vertical-align: top;\n",
       "    }\n",
       "\n",
       "    .dataframe thead th {\n",
       "        text-align: right;\n",
       "    }\n",
       "</style>\n",
       "<table border=\"1\" class=\"dataframe\">\n",
       "  <thead>\n",
       "    <tr style=\"text-align: right;\">\n",
       "      <th></th>\n",
       "      <th>name</th>\n",
       "      <th>expected_assists</th>\n",
       "      <th>expected_goal_involvements</th>\n",
       "      <th>expected_goals</th>\n",
       "      <th>value</th>\n",
       "      <th>egi_per_val</th>\n",
       "    </tr>\n",
       "  </thead>\n",
       "  <tbody>\n",
       "    <tr>\n",
       "      <th>0</th>\n",
       "      <td>Aaron Connolly</td>\n",
       "      <td>0.00</td>\n",
       "      <td>0.00</td>\n",
       "      <td>0.00</td>\n",
       "      <td>4.5</td>\n",
       "      <td>0.000000</td>\n",
       "    </tr>\n",
       "    <tr>\n",
       "      <th>1</th>\n",
       "      <td>Aaron Ramsey</td>\n",
       "      <td>0.48</td>\n",
       "      <td>0.82</td>\n",
       "      <td>0.35</td>\n",
       "      <td>5.0</td>\n",
       "      <td>0.164000</td>\n",
       "    </tr>\n",
       "    <tr>\n",
       "      <th>2</th>\n",
       "      <td>Abdoulaye Doucouré</td>\n",
       "      <td>1.51</td>\n",
       "      <td>10.21</td>\n",
       "      <td>8.70</td>\n",
       "      <td>5.5</td>\n",
       "      <td>1.856364</td>\n",
       "    </tr>\n",
       "    <tr>\n",
       "      <th>3</th>\n",
       "      <td>Adam Lallana</td>\n",
       "      <td>1.60</td>\n",
       "      <td>2.43</td>\n",
       "      <td>0.83</td>\n",
       "      <td>4.9</td>\n",
       "      <td>0.495918</td>\n",
       "    </tr>\n",
       "    <tr>\n",
       "      <th>4</th>\n",
       "      <td>Adam Wharton</td>\n",
       "      <td>1.50</td>\n",
       "      <td>1.87</td>\n",
       "      <td>0.38</td>\n",
       "      <td>5.0</td>\n",
       "      <td>0.374000</td>\n",
       "    </tr>\n",
       "  </tbody>\n",
       "</table>\n",
       "</div>"
      ],
      "text/plain": [
       "                 name  expected_assists  expected_goal_involvements  \\\n",
       "0      Aaron Connolly              0.00                        0.00   \n",
       "1        Aaron Ramsey              0.48                        0.82   \n",
       "2  Abdoulaye Doucouré              1.51                       10.21   \n",
       "3        Adam Lallana              1.60                        2.43   \n",
       "4        Adam Wharton              1.50                        1.87   \n",
       "\n",
       "   expected_goals  value  egi_per_val  \n",
       "0            0.00    4.5     0.000000  \n",
       "1            0.35    5.0     0.164000  \n",
       "2            8.70    5.5     1.856364  \n",
       "3            0.83    4.9     0.495918  \n",
       "4            0.38    5.0     0.374000  "
      ]
     },
     "execution_count": 9,
     "metadata": {},
     "output_type": "execute_result"
    }
   ],
   "source": [
    "mid_fwd_df = df[df[\"position\"].isin([\"MID\", \"FWD\"])]\n",
    "\n",
    "att_returns_player_grouped_df = mid_fwd_df.groupby(\"name\")[['expected_assists',\n",
    "       'expected_goal_involvements', 'expected_goals']].sum()\n",
    "\n",
    "att_returns_player_grouped_df.reset_index(inplace= True)\n",
    "att_returns_player_grouped_df = att_returns_player_grouped_df.merge(df_og[df_og[\"GW\"] == df_og[\"GW\"].max()][[\"name\", \"value\"]], how= \"left\", on= \"name\")\n",
    "\n",
    "att_returns_player_grouped_df[\"egi_per_val\"] = att_returns_player_grouped_df[\"expected_goal_involvements\"] / att_returns_player_grouped_df[\"value\"]\n",
    "att_returns_player_grouped_df.head()"
   ]
  },
  {
   "cell_type": "code",
   "execution_count": 10,
   "metadata": {},
   "outputs": [
    {
     "data": {
      "application/vnd.plotly.v1+json": {
       "config": {
        "plotlyServerURL": "https://plot.ly"
       },
       "data": [
        {
         "hovertemplate": "<b>%{hovertext}</b><br><br>expected_goals=%{x}<br>expected_assists=%{y}<br>egi_per_val=%{marker.color}<extra></extra>",
         "hovertext": [
          "Aaron Connolly",
          "Aaron Ramsey",
          "Abdoulaye Doucouré",
          "Adam Lallana",
          "Adam Wharton",
          "Adama Traoré",
          "Ademola Ola-Adebomi",
          "Admiral Muskwe",
          "Albert Sambi Lokonga",
          "Alejandro Garnacho",
          "Alejo Véliz",
          "Aleksandar Mitrović",
          "Alex Iwobi",
          "Alex Matos",
          "Alex Mighten",
          "Alex Scott",
          "Alexis Mac Allister",
          "Allan Campbell",
          "Allan Saint-Maximin",
          "Amad Diallo",
          "Amadou Diallo",
          "Amadou Onana",
          "Anass Zaroury",
          "Andi Zeqiri",
          "Andre Brooks",
          "Andreas Hoelgebaum Pereira",
          "Andrey Nascimento dos Santos",
          "Andros Townsend",
          "André Tavares Gomes",
          "Anis Slimane",
          "Anssumane Fati Vieira",
          "Anthony Elanga",
          "Anthony Gordon",
          "Anthony Knockaert",
          "Anthony Martial",
          "Antoine Semenyo",
          "Antony Matheus dos Santos",
          "Antwoine Hackford",
          "Aribim Pepple",
          "Armando Broja",
          "Arnaut Danjuma Groeneveld",
          "Axel Piesold",
          "Ben Brereton",
          "Ben Doak",
          "Ben Osborn",
          "Ben Parkinson",
          "Ben Pearson",
          "Benicio Baker-Boaitey",
          "Bernardo Veiga de Carvalho e Silva",
          "Bertrand Traoré",
          "Billy Blacker",
          "Billy Gilmour",
          "Bobby Clark",
          "Bobby De Cordova-Reid",
          "Boubacar Kamara",
          "Boubacar Traoré",
          "Bradley Ibrahim",
          "Braian Ojeda Rodríguez",
          "Brandon Aguilera Zamora",
          "Brennan Johnson",
          "Bruno Cavaco Jordão",
          "Bruno Guimarães Rodriguez Moura",
          "Bryan Gil Salvatierra",
          "Bryan Mbeumo",
          "Bénie Traoré",
          "Callum Hudson-Odoi",
          "Callum Marshall",
          "Cameron Archer",
          "Cameron Peupion",
          "Carlos Baleba",
          "Carlos Henrique Casimiro",
          "Carlos Mendes Gomes",
          "Carlos Vinícius Alves Morais",
          "Carlton Morris",
          "Carney Chukwuemeka",
          "Cauley Woodrow",
          "Cesare Casadei",
          "Charles Sagoe",
          "Cheick Doucouré",
          "Cheikhou Kouyaté",
          "Chiedozie Ogbene",
          "Chris Wood",
          "Christian Eriksen",
          "Christian Nørgaard",
          "Christian Pulisic",
          "Christopher Nkunku",
          "Cody Gakpo",
          "Cole Palmer",
          "Conor Coventry",
          "Conor Gallagher",
          "Curtis Jones",
          "Dane Scarlett",
          "Dango Ouattara",
          "Daniel Castelo Podence",
          "Daniel Gore",
          "Daniel Jebbison",
          "Danilo dos Santos de Oliveira",
          "Danny Ings",
          "Danny Welbeck",
          "Dara Costelloe",
          "Darko Churlinov",
          "Darwin Núñez Ribeiro",
          "David Brooks",
          "David Datro Fofana",
          "David Ozoh",
          "Declan Rice",
          "Deivid Washington de Souza Eugênio",
          "Dejan Kulusevski",
          "Dele Alli",
          "Demarai Gray",
          "Deniz Undav",
          "Detlef Esapa Osong",
          "Diego Manuel Jadon da Silva Moreira",
          "Dion Pereira",
          "Divin Mubama",
          "Divock Origi",
          "Dominic Calvert-Lewin",
          "Dominic Dos Santos Martins",
          "Dominic Sadi",
          "Dominic Solanke",
          "Dominik Szoboszlai",
          "Donny van de Beek",
          "Douglas Luiz Soares de Paulo",
          "Dwight McNeil",
          "Eberechi Eze",
          "Eddie Nketiah",
          "Edson Álvarez Velázquez",
          "Elijah Adebayo",
          "Elliot Anderson",
          "Elliot Thorpe",
          "Ellis Simms",
          "Emile Smith Rowe",
          "Emiliano Buendía Stati",
          "Emiliano Marcondes",
          "Emmanuel Dennis",
          "Enes Ünal",
          "Enock Agyei",
          "Enso González",
          "Enzo Fernández",
          "Ethan Brierley",
          "Ethan Nwaneri",
          "Ethan Wheatley",
          "Evan Ferguson",
          "Fabio Henrique Tavares",
          "Facundo Buonanotte",
          "Facundo Pellistri Rebollo",
          "Fletcher Holman",
          "Flynn Downes",
          "Folarin Balogun",
          "Francisco Jorge Tomás Oliveira",
          "Franco Umeh-Chibueze",
          "Frank Onyeka",
          "Fred Onyedinma",
          "Frederico Rodrigues de Paula Santos",
          "Fábio Ferreira Vieira",
          "Fábio Silva",
          "Gabriel Martinelli Silva",
          "Garang Kuol",
          "Gavin Kilkenny",
          "George Earthy",
          "Gianluca Scamacca",
          "Giovani Lo Celso",
          "Giovanni Reyna",
          "Glen Rea",
          "Gonçalo Manuel Ganchinho Guedes",
          "Granit Xhaka",
          "Gustavo Hamer",
          "Gustavo Henrique Furtado Scarpa",
          "Hakim Ziyech",
          "Halil Dervişoğlu",
          "Hamed Traorè",
          "Han-Noah Massengo",
          "Hannibal Mejbri",
          "Harrison Reed",
          "Harry Arter",
          "Harry Wilson",
          "Harvey Barnes",
          "Harvey Elliott",
          "Harvey Griffiths",
          "Hwang Hee-chan",
          "Hwang Ui-jo",
          "Ian Maatsen",
          "Ibrahim Sangaré",
          "Idrissa Gueye",
          "Iliman Ndiaye",
          "Isaac Hayden",
          "Ismaila Coulibaly",
          "Ivan Neves Abreu Cavaleiro",
          "Jack Cork",
          "Jack Grealish",
          "Jack Harrison",
          "Jack Hinshelwood",
          "Jacob Brown",
          "Jacob Bruun Larsen",
          "Jacob Murphy",
          "Jacob Ramsey",
          "Jacob Wright",
          "Jadan Raymond",
          "Jaden Philogene-Bidace",
          "Jadon Sancho",
          "Jaidon Anthony",
          "Jairo Riedewald",
          "Jakub Moder",
          "Jamal Lowe",
          "James Garner",
          "James McAtee",
          "James McConnell",
          "James Milner",
          "James Ward-Prowse",
          "Jamie Donley",
          "Jamie McDonnell",
          "Jay Rodriguez",
          "Jay Stansfield",
          "Jayden Danns",
          "Jayden Luker",
          "Jean-Philippe Gbamin",
          "Jean-Philippe Mateta",
          "Jean-Ricner Bellegarde",
          "Jeff Hendrick",
          "Jefferson Lerma Solís",
          "Jeffrey Schlupp",
          "Jenson Metcalfe",
          "Jeremy Sarmiento Morante",
          "Jesurun Rak-Sakyi",
          "Jhon Durán",
          "Jimi Tauriainen",
          "Joe Gardner",
          "Joe Hodge",
          "Joe Hugill",
          "Joe Rothwell",
          "Joe Taylor",
          "Joe White",
          "Joe Willock",
          "Joelinton Cássio Apolinário de Lira",
          "John Fleck",
          "John McAtee",
          "John McGinn",
          "John-Kymani Gordon",
          "Jonjo Shelvey",
          "Jordan Ayew",
          "Jordan Clark",
          "Jordan Henderson",
          "Jorge Luiz Frello Filho",
          "Josh Bowler",
          "Josh Brownhill",
          "Josh Cullen",
          "Josh Dasilva",
          "Joshua Duffus",
          "Joshua King",
          "João Palhinha Gonçalves",
          "João Pedro Junqueira de Jesus",
          "João Victor Gomes da Silva",
          "Julio Enciso",
          "Julián Álvarez",
          "Justin Kluivert",
          "Jérémy Doku",
          "Jóhann Berg Gudmundsson",
          "Kacper Kozłowski",
          "Kadan Young",
          "Kaden Rodney",
          "Kaide Gordon",
          "Kalvin Phillips",
          "Kaoru Mitoma",
          "Keane Lewis-Potter",
          "Keinan Davis",
          "Kevin Schade",
          "Kiano Dyer",
          "Kieffer Moore",
          "Kobbie Mainoo",
          "Kristian Sekularac",
          "Leander Dendoncker",
          "Leandro Trossard",
          "Leo Castledine",
          "Leon Bailey",
          "Leon Chiwome",
          "Lesley Ugochukwu",
          "Lewis Cook",
          "Lewis Dobbin",
          "Lewis Koumas",
          "Lewis Miley",
          "Lewis O'Brien",
          "Lewis Orford",
          "Lewis Warrington",
          "Louie Marsh",
          "Louie Watson",
          "Luca Barrington",
          "Luca Koleosho",
          "Lucas Tolentino Coelho de Lima",
          "Luis Sinisterra",
          "Luke Berry",
          "Luke Cundle",
          "Luke Freeman",
          "Luke Harris",
          "Luke Plange",
          "Lyle Foster",
          "Mackenzie Hunt",
          "Mads Bidstrup",
          "Mahamadou Susoho",
          "Mahmoud Dahoud",
          "Malcolm Ebiowei",
          "Manor Solomon",
          "Manuel Benson Hedilazio",
          "Marcus Oliveira Alencar",
          "Marcus Tavernier",
          "Mario Lemina",
          "Mark O’Mahony",
          "Marvelous Nakamba",
          "Mason Burstow",
          "Mason Mount",
          "Mateo Kovačić",
          "Matheus França de Oliveira",
          "Matheus Luiz Nunes",
          "Matheus Santos Carneiro Da Cunha",
          "Mathias Jensen",
          "Matt Ritchie",
          "Matthew Dibley-Dias",
          "Matthew Whittingham",
          "Mauro Bandeira",
          "Maxwel Cornet",
          "Micah Hamilton",
          "Michael Dacosta Gonzalez",
          "Michael Ndiweni",
          "Michael Obafemi",
          "Michael Olakigbe",
          "Michael Olise",
          "Michail Antonio",
          "Miguel Almirón Rejala",
          "Mike Trésor",
          "Mikey Moore",
          "Mikkel Damsgaard",
          "Mohamed Elneny",
          "Mohammed Kudus",
          "Moisés Caicedo Corozo",
          "Morgan Gibbs-White",
          "Morgan Rogers",
          "Morgan Sanson",
          "Moussa Diaby",
          "Mykhailo Mudryk",
          "Myles Lewis-Skelly",
          "Myles Peart-Harris",
          "Máximo Perrone",
          "Naouirou Ahamada",
          "Nathan Fraser",
          "Nathan Redmond",
          "Neal Maupay",
          "Nicolas Jackson",
          "Nicolas Pépé",
          "Nicolás Domínguez",
          "Nicolò Zaniolo",
          "Nikola Vlašić",
          "Noha Lemina",
          "Noni Madueke",
          "Norberto Bercique Gomes Betuncal",
          "Odsonne Edouard",
          "Oliver Arblaster",
          "Oliver McBurnie",
          "Oliver Norwood",
          "Oliver Skipp",
          "Ollie Harrison",
          "Omari Forson",
          "Omari Kellyman",
          "Orel Mangala",
          "Oscar Bobb",
          "Owen Hampson",
          "Owen Hesketh",
          "Pablo Fornals Malla",
          "Pablo Sarabia",
          "Pape Matar Sarr",
          "Pascal Groß",
          "Pedro Lomba Neto",
          "Pelly Ruddock Mpanzu",
          "Philip Billing",
          "Philippe Coutinho Correia",
          "Pierre-Emerick Aubameyang",
          "Pierre-Emile Højbjerg",
          "Raheem Sterling",
          "Rasmus Højlund",
          "Raúl Jiménez",
          "Reiss Nelson",
          "Remo Freuler",
          "Rhian Brewster",
          "Richarlison de Andrade",
          "Riyad Mahrez",
          "Rodrigo Bentancur",
          "Rodrigo Duarte Ribeiro",
          "Rodrigo Hernandez",
          "Rodrigo Muniz Carvalho",
          "Romain Faivre",
          "Romelu Lukaku Bolingoli",
          "Roméo Lavia",
          "Ronnie Stutter",
          "Roshaun Mathurin",
          "Ross Barkley",
          "Ryan Christie",
          "Ryan Fraser",
          "Ryan Gravenberch",
          "Ryan Oné",
          "Ryan Trevitt",
          "Ryan Yates",
          "Sam Surridge",
          "Saman Ghoddos",
          "Samuel Bastien",
          "Samy Chouchane",
          "Sander Berge",
          "Sandro Tonali",
          "Sasa Kalajdzic",
          "Saïd Benrahma",
          "Saša Lukić",
          "Scott McTominay",
          "Scott Twine",
          "Sean Longstaff",
          "Sergi Canós Tenés",
          "Shandon Baptiste",
          "Shea Charles",
          "Shola Shoretire",
          "Simon Adingra",
          "Siriki Dembélé",
          "Sofyan Amrabat",
          "Solly March",
          "Stefan Bajcetic",
          "Steven Alzate",
          "Sydie Peck",
          "Tahith Chong",
          "Taiwo Awoniyi",
          "Tanguy Ndombélé Alvaro",
          "Tawanda Chirewa",
          "Taylan Harris",
          "Temple Ojinnaka",
          "Thiago Alcántara do Nascimento",
          "Thomas Cannon",
          "Thomas Partey",
          "Tim Iroegbunam",
          "Timo Werner",
          "Toby Collyer",
          "Tom Cairney",
          "Tom Davies",
          "Tommi O'Reilly",
          "Tommy Doyle",
          "Tomáš Souček",
          "Travis Hernes",
          "Treymaurice Nyoni",
          "Ty Barnett",
          "Tyler Adams",
          "Tyler Onyango",
          "Tyrese Francois",
          "Tyrese Hall",
          "Tyrique George",
          "Vini de Souza Costa",
          "Vitaly Janelt",
          "Wataru Endo",
          "Wesley Moraes Ferreira da Silva",
          "Will Hughes",
          "William Osula",
          "Willian Borges da Silva",
          "Wilson Odobert",
          "Wout Weghorst",
          "Yago de Santiago Alonso",
          "Yasin Ayari",
          "Yegor Yarmoliuk",
          "Yoane Wissa",
          "Youri Tielemans",
          "Youssef Ramalho Chermiti",
          "Yunus Konak",
          "Yves Bissouma",
          "Zack Nelson",
          "Zeki Amdouni",
          "Ângelo Gabriel Borges Damaceno"
         ],
         "legendgroup": "",
         "marker": {
          "color": [
           0,
           0.16399999999999998,
           1.8563636363636364,
           0.4959183673469388,
           0.374,
           0.4836734693877551,
           0,
           0,
           0.27346938775510204,
           2.208,
           0.07777777777777777,
           0.024324324324324322,
           1.7792452830188679,
           0,
           0,
           0.3836734693877551,
           1.4372881355932203,
           0,
           0,
           0.22727272727272727,
           0,
           0.7680851063829787,
           0.05869565217391305,
           0,
           0.1659090909090909,
           1.9320754716981132,
           0.014285714285714285,
           0.6559999999999999,
           0.17045454545454544,
           0.23404255319148937,
           0.6437499999999999,
           2.0897959183673467,
           2.409375,
           0,
           0.215625,
           1.5266666666666666,
           0.7661764705882353,
           0,
           0,
           0.5040816326530613,
           0.5865384615384615,
           0,
           1.316,
           0,
           0.23958333333333331,
           0,
           0,
           0.026666666666666665,
           1.8693548387096774,
           0,
           0,
           0.7375,
           0.03409090909090909,
           1.0903846153846153,
           0.304,
           0.14186046511627906,
           0,
           0,
           0,
           2.5258620689655173,
           0,
           1.9155172413793102,
           0.18571428571428572,
           2.260294117647059,
           0.1431372549019608,
           0.9936170212765957,
           0,
           1.588095238095238,
           0,
           0.24000000000000002,
           0.9132075471698113,
           0,
           0.37777777777777777,
           2.776595744680851,
           0.0976190476190476,
           0.5046511627906977,
           0.017777777777777778,
           0,
           0.21666666666666667,
           0.060416666666666674,
           1.6604166666666667,
           2.6872340425531918,
           0.5913793103448276,
           1.1634615384615383,
           0,
           0.39444444444444443,
           1.659154929577465,
           4.050793650793651,
           0,
           1.3962962962962961,
           0.7714285714285714,
           0,
           0.7978723404255319,
           0,
           0,
           0,
           0.5207547169811321,
           0.26181818181818184,
           1.1491228070175439,
           0,
           0,
           2.746666666666667,
           0.6212765957446809,
           0.976,
           0.0022222222222222222,
           1.5672727272727274,
           0.10444444444444444,
           1.6880597014925374,
           0,
           0,
           0,
           0,
           0,
           0,
           0.04146341463414635,
           0.40800000000000003,
           2.4879310344827585,
           0,
           0,
           3.152173913043478,
           1.2352112676056337,
           0.014893617021276596,
           2.138888888888889,
           2.0666666666666664,
           2.4633333333333334,
           1.036,
           0.43600000000000005,
           1.2312500000000002,
           0.6857142857142856,
           0,
           0,
           0.4264150943396227,
           0,
           0,
           0,
           0.5940000000000001,
           0,
           0,
           1.9791666666666667,
           0,
           0.011111111111111112,
           0,
           0.9228070175438596,
           0,
           0.7446808510638298,
           0.21428571428571427,
           0,
           0,
           0,
           0,
           0,
           0.720408163265306,
           0.11400000000000002,
           0,
           0.35,
           0.23269230769230767,
           1.5373333333333334,
           0,
           0,
           0.07777777777777778,
           0,
           0.4854166666666667,
           0.15652173913043482,
           0,
           0,
           0,
           1.546938775510204,
           0,
           0,
           0,
           0.03829787234042553,
           0,
           0.1186046511627907,
           0.41395348837209306,
           0,
           1.1471698113207547,
           0.9161290322580644,
           1.5416666666666667,
           0,
           1.92037037037037,
           0,
           0.1843137254901961,
           0.21836734693877552,
           0.4312500000000001,
           0,
           0,
           0,
           0,
           0.004166666666666667,
           0.675,
           1.2181818181818183,
           0.5466666666666666,
           0.6632653061224489,
           1.26875,
           1.1625,
           0.5881355932203389,
           0,
           0,
           0,
           0.010447761194029851,
           0.01836734693877551,
           0.02558139534883721,
           0.3295454545454546,
           0,
           1.2999999999999998,
           1.168181818181818,
           0,
           0.5145833333333334,
           2.1982456140350877,
           0,
           0,
           0.7358490566037736,
           0,
           0.002325581395348837,
           0,
           0,
           2.3803921568627455,
           0.43061224489795913,
           0,
           0.9340425531914892,
           0.6479166666666667,
           0,
           0,
           0.12000000000000001,
           0.43600000000000005,
           0,
           0,
           0,
           0,
           0.05833333333333334,
           0,
           0,
           0.27358490566037735,
           0.6741379310344828,
           0.07142857142857142,
           0,
           1.8867924528301887,
           0,
           0,
           1.2301886792452832,
           0.47708333333333336,
           0,
           0.3528301886792453,
           0,
           0.8191489361702128,
           0.576,
           0.04893617021276596,
           0,
           0,
           0.876,
           3.2019230769230766,
           0.7306122448979592,
           0.532,
           3.0234375,
           1.6173913043478263,
           1.3156249999999998,
           0.9020833333333333,
           0,
           0,
           0,
           0,
           0.07021276595744681,
           1.1015625,
           1.7170212765957447,
           0,
           0.3865384615384615,
           0,
           0.38478260869565223,
           0.5045454545454545,
           0,
           0.15102040816326529,
           1.7045454545454546,
           0,
           2.4925925925925925,
           0.02666666666666667,
           0.03181818181818182,
           0.6958333333333333,
           0.10222222222222223,
           0,
           0.5111111111111111,
           0,
           0,
           0,
           0,
           0,
           0,
           0.63125,
           1.6866666666666665,
           0.6636363636363636,
           0.24782608695652172,
           0,
           0,
           0.06444444444444444,
           0,
           1.1978723404255318,
           0,
           0,
           0,
           0.15833333333333335,
           0,
           0.22745098039215686,
           0.04807692307692307,
           0,
           1.6239999999999999,
           1.1959183673469387,
           0.013333333333333332,
           0.1558139534883721,
           0,
           0.10882352941176471,
           0.6304347826086957,
           0.16458333333333336,
           0.5531914893617021,
           2.2654545454545456,
           1.0769230769230769,
           0.24418604651162792,
           0,
           0,
           0,
           0.08076923076923076,
           0,
           0,
           0,
           0.024489795918367346,
           0.024444444444444446,
           1.8035087719298244,
           1.1789473684210525,
           1.16,
           0.175,
           0,
           0.35208333333333336,
           0.02045454545454545,
           1.2746268656716417,
           0.54,
           2.357894736842105,
           0.336,
           0,
           1.8476190476190477,
           1.2571428571428571,
           0,
           0,
           0,
           0.12093023255813955,
           0.08444444444444445,
           0.0851063829787234,
           1.8122448979591836,
           3.02,
           0,
           0.488,
           0.624074074074074,
           0,
           0,
           0.8754716981132077,
           1.1859649122807017,
           1.3566037735849057,
           0.18666666666666668,
           1.6444444444444444,
           0.4854166666666667,
           0.2822222222222222,
           0,
           0.011363636363636364,
           0.008888888888888889,
           0.21000000000000002,
           0.5909090909090908,
           0,
           0,
           0.14130434782608697,
           2.3377777777777777,
           1.1954545454545453,
           2.5065573770491802,
           1.2472727272727273,
           0.4369565217391305,
           0.9098039215686277,
           0.029310344827586206,
           0,
           0.43921568627450985,
           1.5764705882352943,
           1.1169014084507043,
           1.266,
           0.12708333333333333,
           0,
           0.0836734693877551,
           1.6044117647058824,
           0,
           0.5666666666666667,
           0,
           1.810714285714286,
           2.255813953488372,
           0.036000000000000004,
           0,
           0.002040816326530612,
           0,
           0,
           1.4755555555555555,
           1.572,
           0,
           0.686,
           0,
           0,
           0.7020833333333334,
           0,
           0.30000000000000004,
           0,
           0,
           0.8043478260869567,
           0.2096153846153846,
           0.25918367346938775,
           0.47857142857142865,
           0.4534883720930233,
           1.4222222222222223,
           0,
           1.991666666666667,
           0,
           0.29069767441860467,
           0,
           0,
           1.49,
           0,
           0.086,
           0.5032786885245901,
           0,
           0,
           0,
           0.9159090909090909,
           0.9126984126984127,
           0,
           0.05227272727272726,
           0,
           0,
           0,
           0,
           0.21041666666666667,
           0,
           1.0698412698412698,
           0,
           0.736734693877551,
           0.08,
           0,
           0.29318181818181815,
           1.5979591836734692,
           0,
           0,
           0,
           0.006122448979591836,
           0,
           0,
           0,
           0,
           0.21400000000000002,
           1.0115384615384615,
           0.37777777777777777,
           0,
           0.4102040816326531,
           0.4261904761904762,
           1.8433962264150943,
           1.214,
           0,
           0,
           0,
           0.3238095238095238,
           2.1684210526315786,
           0.5750000000000001,
           0.21666666666666667,
           0,
           0.5700000000000001,
           0,
           1.3274509803921568,
           0
          ],
          "coloraxis": "coloraxis",
          "symbol": "circle"
         },
         "mode": "markers",
         "name": "",
         "orientation": "v",
         "showlegend": false,
         "type": "scatter",
         "x": [
          0,
          0.35,
          8.7,
          0.83,
          0.38,
          1.49,
          0,
          0,
          0.55,
          8.23,
          0.42,
          0.16,
          5.23,
          0,
          0,
          0.8200000000000001,
          3.59,
          0,
          0,
          0.53,
          0,
          2.22,
          0.16,
          0,
          0.49,
          4.52,
          0.06,
          1.48,
          0.32,
          0.97,
          3.5100000000000002,
          6.2,
          10.03,
          0,
          1.24,
          4.69,
          3.38,
          0,
          0,
          2.2399999999999998,
          2.63,
          0,
          5.5200000000000005,
          0,
          0.22,
          0,
          0,
          0.02,
          3.54,
          0,
          0,
          0.98,
          0.14,
          4.55,
          0.13,
          0.28,
          0,
          0,
          0,
          10.36,
          0,
          4.91,
          0.67,
          9.7,
          0.27,
          2.65,
          0,
          5.28,
          0,
          0.85,
          3.64,
          0,
          1.59,
          11.53,
          0.12,
          1.3199999999999998,
          0,
          0,
          0.28,
          0.25,
          4.47,
          11.709999999999999,
          0.9700000000000001,
          3.61,
          0,
          2.4699999999999998,
          9.07,
          17.35,
          0,
          4.01,
          2.7399999999999998,
          0,
          2.65,
          0,
          0,
          0,
          1.82,
          1.18,
          5.09,
          0,
          0,
          16.23,
          2.45,
          4.58,
          0,
          3.5300000000000002,
          0.47,
          4.95,
          0,
          0,
          0,
          0,
          0,
          0,
          0.16,
          1.22,
          12.86,
          0,
          0,
          19.64,
          3.64,
          0.04,
          6.69,
          3.2600000000000002,
          9.12,
          4.65,
          1.37,
          5.47,
          1.63,
          0,
          0,
          1.86,
          0,
          0,
          0,
          2.84,
          0,
          0,
          5.72,
          0,
          0,
          0,
          4.49,
          0,
          2.34,
          0.51,
          0,
          0,
          0,
          0,
          0,
          2.09,
          0.15000000000000002,
          0,
          1.25,
          1.12,
          6.36,
          0,
          0,
          0.35,
          0,
          0.54,
          0.36,
          0,
          0,
          0,
          3,
          0,
          0,
          0,
          0.16999999999999998,
          0,
          0.03,
          0.29000000000000004,
          0,
          3.45,
          3.7800000000000002,
          2.72,
          0,
          7.53,
          0,
          0.74,
          0.67,
          1.25,
          0,
          0,
          0,
          0,
          0,
          2.17,
          3.68,
          2.1,
          2.81,
          4.65,
          2.23,
          2.09,
          0,
          0,
          0,
          0,
          0.07,
          0.04,
          0.78,
          0,
          2.62,
          2.98,
          0,
          0.29000000000000004,
          6.23,
          0,
          0,
          3.8200000000000003,
          0,
          0,
          0,
          0,
          10.84,
          1.35,
          0,
          2.61,
          1.7,
          0,
          0,
          0.41,
          2.04,
          0,
          0,
          0,
          0,
          0.06,
          0,
          0,
          0.88,
          2.82,
          0,
          0,
          5.01,
          0,
          0,
          3.97,
          1.1,
          0,
          0.1,
          0,
          1.81,
          0.59,
          0,
          0,
          0,
          3.39,
          12.01,
          1.82,
          1.38,
          13.07,
          5.76,
          2.57,
          1.8,
          0,
          0,
          0,
          0,
          0.22,
          3.49,
          6.42,
          0,
          1.29,
          0,
          1.44,
          0.87,
          0,
          0.73,
          8.29,
          0,
          6.29,
          0.1,
          0,
          0.42000000000000004,
          0.34,
          0,
          1.22,
          0,
          0,
          0,
          0,
          0,
          0,
          1.96,
          5.1899999999999995,
          2.62,
          0.99,
          0,
          0,
          0.28,
          0,
          4.36,
          0,
          0,
          0,
          0.22000000000000003,
          0,
          0.41000000000000003,
          0.07,
          0,
          3.88,
          4.6000000000000005,
          0.06,
          0.18,
          0,
          0.37,
          1.24,
          0.33,
          0.89,
          9.49,
          0.71,
          0.98,
          0,
          0,
          0,
          0.39999999999999997,
          0,
          0,
          0,
          0.11,
          0.1,
          5.32,
          5.45,
          4.57,
          0.37,
          0,
          0.76,
          0.08,
          5.06,
          0.42,
          6.65,
          1.35,
          0,
          7.4,
          4.77,
          0,
          0,
          0,
          0.4,
          0.32,
          0.03,
          6.89,
          18.14,
          0,
          1.3,
          2.67,
          0,
          0,
          2.5100000000000002,
          6.46,
          6.33,
          0.02,
          6.91,
          1.1,
          0.77,
          0,
          0.03,
          0.04,
          0.77,
          1.5,
          0,
          0,
          0.31,
          5.5200000000000005,
          3.17,
          6.4,
          3.17,
          0.6000000000000001,
          2.53,
          0.15000000000000002,
          0,
          0.68,
          6.39,
          6.97,
          5.37,
          0.18,
          0,
          0.33,
          9.49,
          0,
          2.0100000000000002,
          0,
          3.99,
          8.76,
          0.15000000000000002,
          0,
          0,
          0,
          0,
          3.91,
          2.49,
          0,
          2.08,
          0,
          0,
          2.78,
          0,
          0.3,
          0,
          0,
          2.04,
          0.62,
          1.01,
          1.91,
          1.49,
          6,
          0,
          6.76,
          0,
          0.8899999999999999,
          0,
          0,
          4.19,
          0,
          0.07,
          2.1,
          0,
          0,
          0,
          2.7,
          4.8500000000000005,
          0,
          0.16,
          0,
          0,
          0,
          0,
          0.43,
          0,
          3.81,
          0,
          1.03,
          0.33999999999999997,
          0,
          0.42000000000000004,
          6.69,
          0,
          0,
          0,
          0,
          0,
          0,
          0,
          0,
          0.61,
          1.82,
          0.51,
          0,
          0.31,
          1.64,
          5.09,
          2.75,
          0,
          0,
          0,
          0.36,
          10.54,
          1.24,
          0.74,
          0,
          1.18,
          0,
          5.55,
          0
         ],
         "xaxis": "x",
         "y": [
          0,
          0.48,
          1.51,
          1.6,
          1.5,
          0.88,
          0,
          0,
          0.79,
          2.81,
          0,
          0.02,
          4.2,
          0,
          0,
          1.06,
          4.890000000000001,
          0,
          0,
          0.47,
          0,
          1.39,
          0.11,
          0,
          0.24,
          5.72,
          0,
          1.8,
          0.43,
          0.13,
          0.61,
          4.04,
          5.4,
          0,
          0.14,
          2.19,
          1.83,
          0,
          0,
          0.23,
          0.42,
          0,
          1.07,
          0,
          0.93,
          0,
          0,
          0.1,
          8.05,
          0,
          0,
          2.56,
          0.01,
          1.12,
          1.3900000000000001,
          0.33,
          0,
          0,
          0,
          4.3,
          0,
          6.2,
          0.24,
          5.67,
          0.46,
          2.02,
          0,
          1.39,
          0,
          0.24,
          1.2,
          0,
          0.11,
          1.52,
          0.29,
          0.8500000000000001,
          0.08,
          0,
          0.76,
          0.04,
          3.5,
          0.92,
          2.46,
          2.44,
          0,
          0.37,
          2.71,
          8.17,
          0,
          3.53,
          1.04,
          0,
          1.1,
          0,
          0,
          0,
          0.9400000000000001,
          0.26,
          1.46,
          0,
          0,
          4.37,
          0.47000000000000003,
          0.3,
          0.01,
          5.09,
          0,
          6.37,
          0,
          0,
          0,
          0,
          0,
          0,
          0.01,
          0.8200000000000001,
          1.58,
          0,
          0,
          2.11,
          5.13,
          0.03,
          4.86,
          7.9,
          5.66,
          0.53,
          0.8099999999999999,
          0.44,
          1.25,
          0,
          0,
          0.4,
          0,
          0,
          0,
          0.13,
          0,
          0,
          3.78,
          0,
          0.05,
          0,
          0.77,
          0,
          1.16,
          0.39,
          0,
          0,
          0,
          0,
          0,
          1.44,
          0.42,
          0,
          0.64,
          0.09000000000000001,
          5.18,
          0,
          0,
          0,
          0,
          1.79,
          0.36,
          0,
          0,
          0,
          4.59,
          0,
          0,
          0,
          0.01,
          0,
          0.48,
          1.49,
          0,
          2.63,
          1.9,
          4.68,
          0,
          2.84,
          0,
          0.2,
          0.4,
          0.82,
          0,
          0,
          0,
          0,
          0.02,
          2.69,
          3.02,
          0.36,
          0.44,
          1.44,
          3.35,
          1.38,
          0,
          0,
          0,
          0.07,
          0.02,
          0.07,
          0.67,
          0,
          3.75,
          2.16,
          0,
          2.1799999999999997,
          6.3,
          0,
          0,
          0.08,
          0,
          0.01,
          0,
          0,
          1.3,
          0.76,
          0,
          1.78,
          1.41,
          0,
          0,
          0.14,
          0.15000000000000002,
          0,
          0,
          0,
          0,
          0.22,
          0,
          0,
          0.57,
          1.09,
          0.35,
          0,
          4.99,
          0,
          0,
          2.55,
          1.19,
          0,
          1.77,
          0,
          2.04,
          2.29,
          0.23,
          0,
          0,
          0.99,
          4.640000000000001,
          1.76,
          1.28,
          6.28,
          1.6800000000000002,
          5.85,
          2.5300000000000002,
          0,
          0,
          0,
          0,
          0.11,
          3.56,
          1.6600000000000001,
          0,
          0.72,
          0,
          0.33,
          1.35,
          0,
          0.01,
          2.96,
          0,
          7.17,
          0.02,
          0.14,
          2.92,
          0.12,
          0,
          1.08,
          0,
          0,
          0,
          0,
          0,
          0,
          1.07,
          4.93,
          1.03,
          0.15000000000000002,
          0,
          0,
          0.01,
          0,
          1.27,
          0,
          0,
          0,
          0.54,
          0,
          0.75,
          0.18,
          0,
          4.24,
          1.26,
          0,
          0.49,
          0,
          0.37,
          1.66,
          0.4600000000000001,
          1.71,
          2.97,
          4.89,
          0.07,
          0,
          0,
          0,
          0.02,
          0,
          0,
          0,
          0.01,
          0.01,
          4.96,
          1.28,
          2.39,
          0.54,
          0,
          0.93,
          0.01,
          3.48,
          2.01,
          6.79,
          0.33,
          0,
          4.24,
          3.1500000000000004,
          0,
          0,
          0,
          0.12,
          0.06,
          0.37,
          1.99,
          3,
          0,
          1.1400000000000001,
          0.7,
          0,
          0,
          2.13,
          0.3,
          0.86,
          0.8200000000000001,
          1.98,
          1.23,
          0.5,
          0,
          0.02,
          0,
          0.28,
          1.1,
          0,
          0,
          0.33999999999999997,
          5,
          2.09,
          8.89,
          3.69,
          1.4100000000000001,
          2.11,
          0.02,
          0,
          1.57,
          4.33,
          0.96,
          0.96,
          0.43,
          0,
          0.08,
          1.42,
          0,
          1.05,
          0,
          6.15,
          0.9400000000000001,
          0.03,
          0,
          0.01,
          0,
          0,
          2.73,
          5.37,
          0,
          1.35,
          0,
          0,
          0.59,
          0,
          1.05,
          0,
          0,
          1.6600000000000001,
          0.47,
          0.26,
          0.77,
          0.46,
          0.41,
          0,
          2.8,
          0,
          0.36,
          0,
          0,
          3.26,
          0,
          0.36,
          0.97,
          0,
          0,
          0,
          1.33,
          0.9,
          0,
          0.07,
          0,
          0,
          0,
          0,
          0.5800000000000001,
          0,
          2.93,
          0,
          2.58,
          0.06,
          0,
          0.8700000000000001,
          1.1400000000000001,
          0,
          0,
          0,
          0.030000000000000002,
          0,
          0,
          0,
          0,
          0.46,
          3.44,
          1.53,
          0,
          1.7,
          0.15,
          4.68,
          3.32,
          0,
          0,
          0,
          1,
          1.82,
          1.98,
          0.30000000000000004,
          0,
          1.67,
          0,
          1.22,
          0
         ],
         "yaxis": "y"
        }
       ],
       "layout": {
        "coloraxis": {
         "colorbar": {
          "title": {
           "text": "egi_per_val"
          }
         },
         "colorscale": [
          [
           0,
           "#440154"
          ],
          [
           0.1111111111111111,
           "#482878"
          ],
          [
           0.2222222222222222,
           "#3e4989"
          ],
          [
           0.3333333333333333,
           "#31688e"
          ],
          [
           0.4444444444444444,
           "#26828e"
          ],
          [
           0.5555555555555556,
           "#1f9e89"
          ],
          [
           0.6666666666666666,
           "#35b779"
          ],
          [
           0.7777777777777778,
           "#6ece58"
          ],
          [
           0.8888888888888888,
           "#b5de2b"
          ],
          [
           1,
           "#fde725"
          ]
         ]
        },
        "legend": {
         "tracegroupgap": 0
        },
        "margin": {
         "t": 60
        },
        "template": {
         "data": {
          "bar": [
           {
            "error_x": {
             "color": "#2a3f5f"
            },
            "error_y": {
             "color": "#2a3f5f"
            },
            "marker": {
             "line": {
              "color": "#E5ECF6",
              "width": 0.5
             },
             "pattern": {
              "fillmode": "overlay",
              "size": 10,
              "solidity": 0.2
             }
            },
            "type": "bar"
           }
          ],
          "barpolar": [
           {
            "marker": {
             "line": {
              "color": "#E5ECF6",
              "width": 0.5
             },
             "pattern": {
              "fillmode": "overlay",
              "size": 10,
              "solidity": 0.2
             }
            },
            "type": "barpolar"
           }
          ],
          "carpet": [
           {
            "aaxis": {
             "endlinecolor": "#2a3f5f",
             "gridcolor": "white",
             "linecolor": "white",
             "minorgridcolor": "white",
             "startlinecolor": "#2a3f5f"
            },
            "baxis": {
             "endlinecolor": "#2a3f5f",
             "gridcolor": "white",
             "linecolor": "white",
             "minorgridcolor": "white",
             "startlinecolor": "#2a3f5f"
            },
            "type": "carpet"
           }
          ],
          "choropleth": [
           {
            "colorbar": {
             "outlinewidth": 0,
             "ticks": ""
            },
            "type": "choropleth"
           }
          ],
          "contour": [
           {
            "colorbar": {
             "outlinewidth": 0,
             "ticks": ""
            },
            "colorscale": [
             [
              0,
              "#0d0887"
             ],
             [
              0.1111111111111111,
              "#46039f"
             ],
             [
              0.2222222222222222,
              "#7201a8"
             ],
             [
              0.3333333333333333,
              "#9c179e"
             ],
             [
              0.4444444444444444,
              "#bd3786"
             ],
             [
              0.5555555555555556,
              "#d8576b"
             ],
             [
              0.6666666666666666,
              "#ed7953"
             ],
             [
              0.7777777777777778,
              "#fb9f3a"
             ],
             [
              0.8888888888888888,
              "#fdca26"
             ],
             [
              1,
              "#f0f921"
             ]
            ],
            "type": "contour"
           }
          ],
          "contourcarpet": [
           {
            "colorbar": {
             "outlinewidth": 0,
             "ticks": ""
            },
            "type": "contourcarpet"
           }
          ],
          "heatmap": [
           {
            "colorbar": {
             "outlinewidth": 0,
             "ticks": ""
            },
            "colorscale": [
             [
              0,
              "#0d0887"
             ],
             [
              0.1111111111111111,
              "#46039f"
             ],
             [
              0.2222222222222222,
              "#7201a8"
             ],
             [
              0.3333333333333333,
              "#9c179e"
             ],
             [
              0.4444444444444444,
              "#bd3786"
             ],
             [
              0.5555555555555556,
              "#d8576b"
             ],
             [
              0.6666666666666666,
              "#ed7953"
             ],
             [
              0.7777777777777778,
              "#fb9f3a"
             ],
             [
              0.8888888888888888,
              "#fdca26"
             ],
             [
              1,
              "#f0f921"
             ]
            ],
            "type": "heatmap"
           }
          ],
          "heatmapgl": [
           {
            "colorbar": {
             "outlinewidth": 0,
             "ticks": ""
            },
            "colorscale": [
             [
              0,
              "#0d0887"
             ],
             [
              0.1111111111111111,
              "#46039f"
             ],
             [
              0.2222222222222222,
              "#7201a8"
             ],
             [
              0.3333333333333333,
              "#9c179e"
             ],
             [
              0.4444444444444444,
              "#bd3786"
             ],
             [
              0.5555555555555556,
              "#d8576b"
             ],
             [
              0.6666666666666666,
              "#ed7953"
             ],
             [
              0.7777777777777778,
              "#fb9f3a"
             ],
             [
              0.8888888888888888,
              "#fdca26"
             ],
             [
              1,
              "#f0f921"
             ]
            ],
            "type": "heatmapgl"
           }
          ],
          "histogram": [
           {
            "marker": {
             "pattern": {
              "fillmode": "overlay",
              "size": 10,
              "solidity": 0.2
             }
            },
            "type": "histogram"
           }
          ],
          "histogram2d": [
           {
            "colorbar": {
             "outlinewidth": 0,
             "ticks": ""
            },
            "colorscale": [
             [
              0,
              "#0d0887"
             ],
             [
              0.1111111111111111,
              "#46039f"
             ],
             [
              0.2222222222222222,
              "#7201a8"
             ],
             [
              0.3333333333333333,
              "#9c179e"
             ],
             [
              0.4444444444444444,
              "#bd3786"
             ],
             [
              0.5555555555555556,
              "#d8576b"
             ],
             [
              0.6666666666666666,
              "#ed7953"
             ],
             [
              0.7777777777777778,
              "#fb9f3a"
             ],
             [
              0.8888888888888888,
              "#fdca26"
             ],
             [
              1,
              "#f0f921"
             ]
            ],
            "type": "histogram2d"
           }
          ],
          "histogram2dcontour": [
           {
            "colorbar": {
             "outlinewidth": 0,
             "ticks": ""
            },
            "colorscale": [
             [
              0,
              "#0d0887"
             ],
             [
              0.1111111111111111,
              "#46039f"
             ],
             [
              0.2222222222222222,
              "#7201a8"
             ],
             [
              0.3333333333333333,
              "#9c179e"
             ],
             [
              0.4444444444444444,
              "#bd3786"
             ],
             [
              0.5555555555555556,
              "#d8576b"
             ],
             [
              0.6666666666666666,
              "#ed7953"
             ],
             [
              0.7777777777777778,
              "#fb9f3a"
             ],
             [
              0.8888888888888888,
              "#fdca26"
             ],
             [
              1,
              "#f0f921"
             ]
            ],
            "type": "histogram2dcontour"
           }
          ],
          "mesh3d": [
           {
            "colorbar": {
             "outlinewidth": 0,
             "ticks": ""
            },
            "type": "mesh3d"
           }
          ],
          "parcoords": [
           {
            "line": {
             "colorbar": {
              "outlinewidth": 0,
              "ticks": ""
             }
            },
            "type": "parcoords"
           }
          ],
          "pie": [
           {
            "automargin": true,
            "type": "pie"
           }
          ],
          "scatter": [
           {
            "fillpattern": {
             "fillmode": "overlay",
             "size": 10,
             "solidity": 0.2
            },
            "type": "scatter"
           }
          ],
          "scatter3d": [
           {
            "line": {
             "colorbar": {
              "outlinewidth": 0,
              "ticks": ""
             }
            },
            "marker": {
             "colorbar": {
              "outlinewidth": 0,
              "ticks": ""
             }
            },
            "type": "scatter3d"
           }
          ],
          "scattercarpet": [
           {
            "marker": {
             "colorbar": {
              "outlinewidth": 0,
              "ticks": ""
             }
            },
            "type": "scattercarpet"
           }
          ],
          "scattergeo": [
           {
            "marker": {
             "colorbar": {
              "outlinewidth": 0,
              "ticks": ""
             }
            },
            "type": "scattergeo"
           }
          ],
          "scattergl": [
           {
            "marker": {
             "colorbar": {
              "outlinewidth": 0,
              "ticks": ""
             }
            },
            "type": "scattergl"
           }
          ],
          "scattermapbox": [
           {
            "marker": {
             "colorbar": {
              "outlinewidth": 0,
              "ticks": ""
             }
            },
            "type": "scattermapbox"
           }
          ],
          "scatterpolar": [
           {
            "marker": {
             "colorbar": {
              "outlinewidth": 0,
              "ticks": ""
             }
            },
            "type": "scatterpolar"
           }
          ],
          "scatterpolargl": [
           {
            "marker": {
             "colorbar": {
              "outlinewidth": 0,
              "ticks": ""
             }
            },
            "type": "scatterpolargl"
           }
          ],
          "scatterternary": [
           {
            "marker": {
             "colorbar": {
              "outlinewidth": 0,
              "ticks": ""
             }
            },
            "type": "scatterternary"
           }
          ],
          "surface": [
           {
            "colorbar": {
             "outlinewidth": 0,
             "ticks": ""
            },
            "colorscale": [
             [
              0,
              "#0d0887"
             ],
             [
              0.1111111111111111,
              "#46039f"
             ],
             [
              0.2222222222222222,
              "#7201a8"
             ],
             [
              0.3333333333333333,
              "#9c179e"
             ],
             [
              0.4444444444444444,
              "#bd3786"
             ],
             [
              0.5555555555555556,
              "#d8576b"
             ],
             [
              0.6666666666666666,
              "#ed7953"
             ],
             [
              0.7777777777777778,
              "#fb9f3a"
             ],
             [
              0.8888888888888888,
              "#fdca26"
             ],
             [
              1,
              "#f0f921"
             ]
            ],
            "type": "surface"
           }
          ],
          "table": [
           {
            "cells": {
             "fill": {
              "color": "#EBF0F8"
             },
             "line": {
              "color": "white"
             }
            },
            "header": {
             "fill": {
              "color": "#C8D4E3"
             },
             "line": {
              "color": "white"
             }
            },
            "type": "table"
           }
          ]
         },
         "layout": {
          "annotationdefaults": {
           "arrowcolor": "#2a3f5f",
           "arrowhead": 0,
           "arrowwidth": 1
          },
          "autotypenumbers": "strict",
          "coloraxis": {
           "colorbar": {
            "outlinewidth": 0,
            "ticks": ""
           }
          },
          "colorscale": {
           "diverging": [
            [
             0,
             "#8e0152"
            ],
            [
             0.1,
             "#c51b7d"
            ],
            [
             0.2,
             "#de77ae"
            ],
            [
             0.3,
             "#f1b6da"
            ],
            [
             0.4,
             "#fde0ef"
            ],
            [
             0.5,
             "#f7f7f7"
            ],
            [
             0.6,
             "#e6f5d0"
            ],
            [
             0.7,
             "#b8e186"
            ],
            [
             0.8,
             "#7fbc41"
            ],
            [
             0.9,
             "#4d9221"
            ],
            [
             1,
             "#276419"
            ]
           ],
           "sequential": [
            [
             0,
             "#0d0887"
            ],
            [
             0.1111111111111111,
             "#46039f"
            ],
            [
             0.2222222222222222,
             "#7201a8"
            ],
            [
             0.3333333333333333,
             "#9c179e"
            ],
            [
             0.4444444444444444,
             "#bd3786"
            ],
            [
             0.5555555555555556,
             "#d8576b"
            ],
            [
             0.6666666666666666,
             "#ed7953"
            ],
            [
             0.7777777777777778,
             "#fb9f3a"
            ],
            [
             0.8888888888888888,
             "#fdca26"
            ],
            [
             1,
             "#f0f921"
            ]
           ],
           "sequentialminus": [
            [
             0,
             "#0d0887"
            ],
            [
             0.1111111111111111,
             "#46039f"
            ],
            [
             0.2222222222222222,
             "#7201a8"
            ],
            [
             0.3333333333333333,
             "#9c179e"
            ],
            [
             0.4444444444444444,
             "#bd3786"
            ],
            [
             0.5555555555555556,
             "#d8576b"
            ],
            [
             0.6666666666666666,
             "#ed7953"
            ],
            [
             0.7777777777777778,
             "#fb9f3a"
            ],
            [
             0.8888888888888888,
             "#fdca26"
            ],
            [
             1,
             "#f0f921"
            ]
           ]
          },
          "colorway": [
           "#636efa",
           "#EF553B",
           "#00cc96",
           "#ab63fa",
           "#FFA15A",
           "#19d3f3",
           "#FF6692",
           "#B6E880",
           "#FF97FF",
           "#FECB52"
          ],
          "font": {
           "color": "#2a3f5f"
          },
          "geo": {
           "bgcolor": "white",
           "lakecolor": "white",
           "landcolor": "#E5ECF6",
           "showlakes": true,
           "showland": true,
           "subunitcolor": "white"
          },
          "hoverlabel": {
           "align": "left"
          },
          "hovermode": "closest",
          "mapbox": {
           "style": "light"
          },
          "paper_bgcolor": "white",
          "plot_bgcolor": "#E5ECF6",
          "polar": {
           "angularaxis": {
            "gridcolor": "white",
            "linecolor": "white",
            "ticks": ""
           },
           "bgcolor": "#E5ECF6",
           "radialaxis": {
            "gridcolor": "white",
            "linecolor": "white",
            "ticks": ""
           }
          },
          "scene": {
           "xaxis": {
            "backgroundcolor": "#E5ECF6",
            "gridcolor": "white",
            "gridwidth": 2,
            "linecolor": "white",
            "showbackground": true,
            "ticks": "",
            "zerolinecolor": "white"
           },
           "yaxis": {
            "backgroundcolor": "#E5ECF6",
            "gridcolor": "white",
            "gridwidth": 2,
            "linecolor": "white",
            "showbackground": true,
            "ticks": "",
            "zerolinecolor": "white"
           },
           "zaxis": {
            "backgroundcolor": "#E5ECF6",
            "gridcolor": "white",
            "gridwidth": 2,
            "linecolor": "white",
            "showbackground": true,
            "ticks": "",
            "zerolinecolor": "white"
           }
          },
          "shapedefaults": {
           "line": {
            "color": "#2a3f5f"
           }
          },
          "ternary": {
           "aaxis": {
            "gridcolor": "white",
            "linecolor": "white",
            "ticks": ""
           },
           "baxis": {
            "gridcolor": "white",
            "linecolor": "white",
            "ticks": ""
           },
           "bgcolor": "#E5ECF6",
           "caxis": {
            "gridcolor": "white",
            "linecolor": "white",
            "ticks": ""
           }
          },
          "title": {
           "x": 0.05
          },
          "xaxis": {
           "automargin": true,
           "gridcolor": "white",
           "linecolor": "white",
           "ticks": "",
           "title": {
            "standoff": 15
           },
           "zerolinecolor": "white",
           "zerolinewidth": 2
          },
          "yaxis": {
           "automargin": true,
           "gridcolor": "white",
           "linecolor": "white",
           "ticks": "",
           "title": {
            "standoff": 15
           },
           "zerolinecolor": "white",
           "zerolinewidth": 2
          }
         }
        },
        "xaxis": {
         "anchor": "y",
         "domain": [
          0,
          1
         ],
         "title": {
          "text": "expected_goals"
         }
        },
        "yaxis": {
         "anchor": "x",
         "domain": [
          0,
          1
         ],
         "title": {
          "text": "expected_assists"
         }
        }
       }
      }
     },
     "metadata": {},
     "output_type": "display_data"
    }
   ],
   "source": [
    "PRICE_MAX = 7.5\n",
    "\n",
    "plot_df = att_returns_player_grouped_df[att_returns_player_grouped_df[\"value\"] <= PRICE_MAX]\n",
    "\n",
    "px.scatter(plot_df, x= \"expected_goals\", y= \"expected_assists\",\n",
    "           hover_name= \"name\", color= \"egi_per_val\", color_continuous_scale=px.colors.sequential.Viridis)"
   ]
  },
  {
   "cell_type": "markdown",
   "metadata": {},
   "source": [
    "## FPL 2024/2025 Data"
   ]
  },
  {
   "cell_type": "markdown",
   "metadata": {},
   "source": [
    "### Reading Data"
   ]
  },
  {
   "cell_type": "code",
   "execution_count": 11,
   "metadata": {},
   "outputs": [
    {
     "name": "stdout",
     "output_type": "stream",
     "text": [
      "(6552, 41)\n",
      "Index(['name', 'position', 'team', 'xP', 'assists', 'bonus', 'bps',\n",
      "       'clean_sheets', 'creativity', 'element', 'expected_assists',\n",
      "       'expected_goal_involvements', 'expected_goals',\n",
      "       'expected_goals_conceded', 'fixture', 'goals_conceded', 'goals_scored',\n",
      "       'ict_index', 'influence', 'kickoff_time', 'minutes', 'opponent_team',\n",
      "       'own_goals', 'penalties_missed', 'penalties_saved', 'red_cards',\n",
      "       'round', 'saves', 'selected', 'starts', 'team_a_score', 'team_h_score',\n",
      "       'threat', 'total_points', 'transfers_balance', 'transfers_in',\n",
      "       'transfers_out', 'value', 'was_home', 'yellow_cards', 'GW'],\n",
      "      dtype='object')\n"
     ]
    }
   ],
   "source": [
    "gw_url = \"https://raw.githubusercontent.com/vaastav/Fantasy-Premier-League/master/data/2024-25/gws/merged_gw.csv\"\n",
    "\n",
    "df_og = pd.read_csv(gw_url)\n",
    "print(df_og.shape)\n",
    "print(df_og.columns)\n",
    "\n",
    "# Saving a original df\n",
    "df_og[\"value\"] = df_og[\"value\"]/ 10\n",
    "df = df_og.copy()"
   ]
  },
  {
   "cell_type": "code",
   "execution_count": 12,
   "metadata": {},
   "outputs": [],
   "source": [
    "# club_url = \"https://raw.githubusercontent.com/vaastav/Fantasy-Premier-League/master/data/2024-25/teams.csv\"\n",
    "# df_club = pd.read_csv(club_url)\n",
    "\n",
    "# df = df.merge(df_club[df_club[\"season\"] == \"2023-24\"], left_on= \"opponent_team\", right_on= \"team\", suffixes=[\"\", \"_y\"])\n",
    "# df.head()\n"
   ]
  },
  {
   "cell_type": "code",
   "execution_count": 13,
   "metadata": {},
   "outputs": [],
   "source": [
    "# df.drop(columns= [\"season\", \"team_y\", \"opponent_team\"], inplace= True)\n",
    "# df.rename(columns= {\"team_name\": \"opponent_team\"}, inplace= True)\n",
    "\n",
    "# df.head()"
   ]
  },
  {
   "cell_type": "markdown",
   "metadata": {},
   "source": [
    "### Data Exploration"
   ]
  },
  {
   "cell_type": "code",
   "execution_count": 14,
   "metadata": {},
   "outputs": [
    {
     "data": {
      "text/plain": [
       "Index(['name', 'position', 'team', 'xP', 'assists', 'bonus', 'bps',\n",
       "       'clean_sheets', 'creativity', 'element', 'expected_assists',\n",
       "       'expected_goal_involvements', 'expected_goals',\n",
       "       'expected_goals_conceded', 'fixture', 'goals_conceded', 'goals_scored',\n",
       "       'ict_index', 'influence', 'kickoff_time', 'minutes', 'opponent_team',\n",
       "       'own_goals', 'penalties_missed', 'penalties_saved', 'red_cards',\n",
       "       'round', 'saves', 'selected', 'starts', 'team_a_score', 'team_h_score',\n",
       "       'threat', 'total_points', 'transfers_balance', 'transfers_in',\n",
       "       'transfers_out', 'value', 'was_home', 'yellow_cards', 'GW'],\n",
       "      dtype='object')"
      ]
     },
     "execution_count": 14,
     "metadata": {},
     "output_type": "execute_result"
    }
   ],
   "source": [
    "df.columns"
   ]
  },
  {
   "cell_type": "code",
   "execution_count": 15,
   "metadata": {},
   "outputs": [],
   "source": [
    "cols_to_drop = ['transfers_balance', 'transfers_in',\n",
    "       'transfers_out', 'value', 'kickoff_time', 'round', 'fixture', 'round', 'GW']\n",
    "\n",
    "# cols_look = ['fixture', \"kickoff_time\", \"opponent_team\", \"round\", \"selected\", \"starts\", 'team_a_score', 'team_h_score',\n",
    "#        'threat', 'total_points', \"GW\"]\n",
    "\n",
    "# df[df[\"name\"] == \"Cole Palmer\"][cols_look]\n",
    "\n",
    "df.drop(columns= cols_to_drop, inplace= True)\n"
   ]
  },
  {
   "cell_type": "code",
   "execution_count": 16,
   "metadata": {},
   "outputs": [
    {
     "data": {
      "text/html": [
       "<div>\n",
       "<style scoped>\n",
       "    .dataframe tbody tr th:only-of-type {\n",
       "        vertical-align: middle;\n",
       "    }\n",
       "\n",
       "    .dataframe tbody tr th {\n",
       "        vertical-align: top;\n",
       "    }\n",
       "\n",
       "    .dataframe thead th {\n",
       "        text-align: right;\n",
       "    }\n",
       "</style>\n",
       "<table border=\"1\" class=\"dataframe\">\n",
       "  <thead>\n",
       "    <tr style=\"text-align: right;\">\n",
       "      <th></th>\n",
       "      <th>name</th>\n",
       "      <th>position</th>\n",
       "      <th>team</th>\n",
       "      <th>xP</th>\n",
       "      <th>assists</th>\n",
       "      <th>bonus</th>\n",
       "      <th>bps</th>\n",
       "      <th>clean_sheets</th>\n",
       "      <th>creativity</th>\n",
       "      <th>element</th>\n",
       "      <th>...</th>\n",
       "      <th>red_cards</th>\n",
       "      <th>saves</th>\n",
       "      <th>selected</th>\n",
       "      <th>starts</th>\n",
       "      <th>team_a_score</th>\n",
       "      <th>team_h_score</th>\n",
       "      <th>threat</th>\n",
       "      <th>total_points</th>\n",
       "      <th>was_home</th>\n",
       "      <th>yellow_cards</th>\n",
       "    </tr>\n",
       "  </thead>\n",
       "  <tbody>\n",
       "    <tr>\n",
       "      <th>13</th>\n",
       "      <td>Cole Palmer</td>\n",
       "      <td>MID</td>\n",
       "      <td>Chelsea</td>\n",
       "      <td>2.4</td>\n",
       "      <td>0</td>\n",
       "      <td>0</td>\n",
       "      <td>18</td>\n",
       "      <td>0</td>\n",
       "      <td>37.8</td>\n",
       "      <td>182</td>\n",
       "      <td>...</td>\n",
       "      <td>0</td>\n",
       "      <td>0</td>\n",
       "      <td>3210033</td>\n",
       "      <td>1</td>\n",
       "      <td>2</td>\n",
       "      <td>0</td>\n",
       "      <td>10.0</td>\n",
       "      <td>2</td>\n",
       "      <td>True</td>\n",
       "      <td>0</td>\n",
       "    </tr>\n",
       "    <tr>\n",
       "      <th>629</th>\n",
       "      <td>Cole Palmer</td>\n",
       "      <td>MID</td>\n",
       "      <td>Chelsea</td>\n",
       "      <td>9.5</td>\n",
       "      <td>3</td>\n",
       "      <td>2</td>\n",
       "      <td>61</td>\n",
       "      <td>0</td>\n",
       "      <td>43.8</td>\n",
       "      <td>182</td>\n",
       "      <td>...</td>\n",
       "      <td>0</td>\n",
       "      <td>0</td>\n",
       "      <td>3258422</td>\n",
       "      <td>1</td>\n",
       "      <td>6</td>\n",
       "      <td>2</td>\n",
       "      <td>21.0</td>\n",
       "      <td>17</td>\n",
       "      <td>False</td>\n",
       "      <td>1</td>\n",
       "    </tr>\n",
       "    <tr>\n",
       "      <th>1256</th>\n",
       "      <td>Cole Palmer</td>\n",
       "      <td>MID</td>\n",
       "      <td>Chelsea</td>\n",
       "      <td>8.3</td>\n",
       "      <td>1</td>\n",
       "      <td>2</td>\n",
       "      <td>29</td>\n",
       "      <td>0</td>\n",
       "      <td>62.2</td>\n",
       "      <td>182</td>\n",
       "      <td>...</td>\n",
       "      <td>0</td>\n",
       "      <td>0</td>\n",
       "      <td>4154208</td>\n",
       "      <td>1</td>\n",
       "      <td>1</td>\n",
       "      <td>1</td>\n",
       "      <td>14.0</td>\n",
       "      <td>6</td>\n",
       "      <td>True</td>\n",
       "      <td>1</td>\n",
       "    </tr>\n",
       "    <tr>\n",
       "      <th>1904</th>\n",
       "      <td>Cole Palmer</td>\n",
       "      <td>MID</td>\n",
       "      <td>Chelsea</td>\n",
       "      <td>7.0</td>\n",
       "      <td>0</td>\n",
       "      <td>0</td>\n",
       "      <td>15</td>\n",
       "      <td>1</td>\n",
       "      <td>13.3</td>\n",
       "      <td>182</td>\n",
       "      <td>...</td>\n",
       "      <td>0</td>\n",
       "      <td>0</td>\n",
       "      <td>4019324</td>\n",
       "      <td>1</td>\n",
       "      <td>1</td>\n",
       "      <td>0</td>\n",
       "      <td>0.0</td>\n",
       "      <td>3</td>\n",
       "      <td>False</td>\n",
       "      <td>0</td>\n",
       "    </tr>\n",
       "    <tr>\n",
       "      <th>2563</th>\n",
       "      <td>Cole Palmer</td>\n",
       "      <td>MID</td>\n",
       "      <td>Chelsea</td>\n",
       "      <td>8.5</td>\n",
       "      <td>0</td>\n",
       "      <td>0</td>\n",
       "      <td>27</td>\n",
       "      <td>1</td>\n",
       "      <td>16.4</td>\n",
       "      <td>182</td>\n",
       "      <td>...</td>\n",
       "      <td>0</td>\n",
       "      <td>0</td>\n",
       "      <td>4094666</td>\n",
       "      <td>1</td>\n",
       "      <td>3</td>\n",
       "      <td>0</td>\n",
       "      <td>21.0</td>\n",
       "      <td>8</td>\n",
       "      <td>False</td>\n",
       "      <td>0</td>\n",
       "    </tr>\n",
       "  </tbody>\n",
       "</table>\n",
       "<p>5 rows × 33 columns</p>\n",
       "</div>"
      ],
      "text/plain": [
       "             name position     team   xP  assists  bonus  bps  clean_sheets  \\\n",
       "13    Cole Palmer      MID  Chelsea  2.4        0      0   18             0   \n",
       "629   Cole Palmer      MID  Chelsea  9.5        3      2   61             0   \n",
       "1256  Cole Palmer      MID  Chelsea  8.3        1      2   29             0   \n",
       "1904  Cole Palmer      MID  Chelsea  7.0        0      0   15             1   \n",
       "2563  Cole Palmer      MID  Chelsea  8.5        0      0   27             1   \n",
       "\n",
       "      creativity  element  ...  red_cards  saves  selected  starts  \\\n",
       "13          37.8      182  ...          0      0   3210033       1   \n",
       "629         43.8      182  ...          0      0   3258422       1   \n",
       "1256        62.2      182  ...          0      0   4154208       1   \n",
       "1904        13.3      182  ...          0      0   4019324       1   \n",
       "2563        16.4      182  ...          0      0   4094666       1   \n",
       "\n",
       "      team_a_score  team_h_score  threat  total_points  was_home  yellow_cards  \n",
       "13               2             0    10.0             2      True             0  \n",
       "629              6             2    21.0            17     False             1  \n",
       "1256             1             1    14.0             6      True             1  \n",
       "1904             1             0     0.0             3     False             0  \n",
       "2563             3             0    21.0             8     False             0  \n",
       "\n",
       "[5 rows x 33 columns]"
      ]
     },
     "execution_count": 16,
     "metadata": {},
     "output_type": "execute_result"
    }
   ],
   "source": [
    "cole = df[\"name\"] == \"Cole Palmer\"\n",
    "chels = df[\"team\"] == \"Chelsea\"\n",
    "\n",
    "df[cole & chels].head()"
   ]
  },
  {
   "cell_type": "markdown",
   "metadata": {},
   "source": [
    "### Plotting"
   ]
  },
  {
   "cell_type": "code",
   "execution_count": 17,
   "metadata": {},
   "outputs": [
    {
     "data": {
      "text/html": [
       "<div>\n",
       "<style scoped>\n",
       "    .dataframe tbody tr th:only-of-type {\n",
       "        vertical-align: middle;\n",
       "    }\n",
       "\n",
       "    .dataframe tbody tr th {\n",
       "        vertical-align: top;\n",
       "    }\n",
       "\n",
       "    .dataframe thead th {\n",
       "        text-align: right;\n",
       "    }\n",
       "</style>\n",
       "<table border=\"1\" class=\"dataframe\">\n",
       "  <thead>\n",
       "    <tr style=\"text-align: right;\">\n",
       "      <th></th>\n",
       "      <th>name</th>\n",
       "      <th>total_points</th>\n",
       "      <th>xP</th>\n",
       "      <th>goals_scored</th>\n",
       "      <th>assists</th>\n",
       "      <th>expected_assists</th>\n",
       "      <th>expected_goals</th>\n",
       "      <th>expected_goal_involvements</th>\n",
       "      <th>minutes</th>\n",
       "      <th>value</th>\n",
       "      <th>goal_involvements</th>\n",
       "      <th>efficiency</th>\n",
       "      <th>egi_per_val</th>\n",
       "      <th>xP_per_val</th>\n",
       "      <th>P_per_val</th>\n",
       "      <th>egi_per_90</th>\n",
       "      <th>xP_per_90</th>\n",
       "      <th>P_per_90</th>\n",
       "    </tr>\n",
       "  </thead>\n",
       "  <tbody>\n",
       "    <tr>\n",
       "      <th>360</th>\n",
       "      <td>Tyler Dibling</td>\n",
       "      <td>20</td>\n",
       "      <td>12.2</td>\n",
       "      <td>1</td>\n",
       "      <td>0</td>\n",
       "      <td>0.61</td>\n",
       "      <td>0.92</td>\n",
       "      <td>1.53</td>\n",
       "      <td>521</td>\n",
       "      <td>4.6</td>\n",
       "      <td>1</td>\n",
       "      <td>0.653595</td>\n",
       "      <td>0.332609</td>\n",
       "      <td>2.652174</td>\n",
       "      <td>4.347826</td>\n",
       "      <td>0.264299</td>\n",
       "      <td>2.107486</td>\n",
       "      <td>3.454894</td>\n",
       "    </tr>\n",
       "  </tbody>\n",
       "</table>\n",
       "</div>"
      ],
      "text/plain": [
       "              name  total_points    xP  goals_scored  assists  \\\n",
       "360  Tyler Dibling            20  12.2             1        0   \n",
       "\n",
       "     expected_assists  expected_goals  expected_goal_involvements  minutes  \\\n",
       "360              0.61            0.92                        1.53      521   \n",
       "\n",
       "     value  goal_involvements  efficiency  egi_per_val  xP_per_val  P_per_val  \\\n",
       "360    4.6                  1    0.653595     0.332609    2.652174   4.347826   \n",
       "\n",
       "     egi_per_90  xP_per_90  P_per_90  \n",
       "360    0.264299   2.107486  3.454894  "
      ]
     },
     "execution_count": 17,
     "metadata": {},
     "output_type": "execute_result"
    }
   ],
   "source": [
    "mid_fwd_df = df[df[\"position\"].isin([\"MID\", \"FWD\"])]\n",
    "\n",
    "att_returns_player_grouped_df = mid_fwd_df.groupby(\"name\")[[ \"total_points\", \"xP\", \"goals_scored\", \"assists\", 'expected_assists', 'expected_goals',\n",
    "       'expected_goal_involvements', \"minutes\"]].sum()\n",
    "\n",
    "att_returns_player_grouped_df.reset_index(inplace= True)\n",
    "att_returns_player_grouped_df = att_returns_player_grouped_df.merge(df_og[df_og[\"GW\"] == df_og[\"GW\"].max()][[\"name\", \"value\"]], how= \"left\", on= \"name\")\n",
    "\n",
    "mins_calc = np.where(att_returns_player_grouped_df[\"minutes\"] > 0, 90 / att_returns_player_grouped_df[\"minutes\"], 0)\n",
    "\n",
    "att_returns_player_grouped_df[\"goal_involvements\"] = att_returns_player_grouped_df[\"goals_scored\"] + att_returns_player_grouped_df[\"assists\"]\n",
    "att_returns_player_grouped_df[\"efficiency\"] = att_returns_player_grouped_df[\"goal_involvements\"] / att_returns_player_grouped_df[\"expected_goal_involvements\"]\n",
    "att_returns_player_grouped_df[\"egi_per_val\"] = att_returns_player_grouped_df[\"expected_goal_involvements\"] / att_returns_player_grouped_df[\"value\"]\n",
    "att_returns_player_grouped_df[\"egi_per_val\"] = att_returns_player_grouped_df[\"expected_goal_involvements\"] / att_returns_player_grouped_df[\"value\"]\n",
    "att_returns_player_grouped_df[\"xP_per_val\"] = att_returns_player_grouped_df[\"xP\"] / att_returns_player_grouped_df[\"value\"]\n",
    "att_returns_player_grouped_df[\"P_per_val\"] = att_returns_player_grouped_df[\"total_points\"] / att_returns_player_grouped_df[\"value\"]\n",
    "\n",
    "att_returns_player_grouped_df[\"egi_per_90\"] = att_returns_player_grouped_df[\"expected_goal_involvements\"] * mins_calc\n",
    "att_returns_player_grouped_df[\"xP_per_90\"] = att_returns_player_grouped_df[\"xP\"] * mins_calc\n",
    "att_returns_player_grouped_df[\"P_per_90\"] = att_returns_player_grouped_df[\"total_points\"] * mins_calc\n",
    "\n",
    "\n",
    "att_returns_player_grouped_df[att_returns_player_grouped_df[\"name\"].str.contains(\"Dibling\")].head()\n"
   ]
  },
  {
   "cell_type": "code",
   "execution_count": 18,
   "metadata": {},
   "outputs": [
    {
     "data": {
      "text/html": [
       "<div>\n",
       "<style scoped>\n",
       "    .dataframe tbody tr th:only-of-type {\n",
       "        vertical-align: middle;\n",
       "    }\n",
       "\n",
       "    .dataframe tbody tr th {\n",
       "        vertical-align: top;\n",
       "    }\n",
       "\n",
       "    .dataframe thead th {\n",
       "        text-align: right;\n",
       "    }\n",
       "</style>\n",
       "<table border=\"1\" class=\"dataframe\">\n",
       "  <thead>\n",
       "    <tr style=\"text-align: right;\">\n",
       "      <th></th>\n",
       "      <th>name</th>\n",
       "      <th>total_points</th>\n",
       "      <th>xP</th>\n",
       "      <th>goals_scored</th>\n",
       "      <th>assists</th>\n",
       "      <th>expected_assists</th>\n",
       "      <th>expected_goals</th>\n",
       "      <th>expected_goal_involvements</th>\n",
       "      <th>minutes</th>\n",
       "      <th>value</th>\n",
       "      <th>goal_involvements</th>\n",
       "      <th>efficiency</th>\n",
       "      <th>egi_per_val</th>\n",
       "      <th>xP_per_val</th>\n",
       "      <th>P_per_val</th>\n",
       "      <th>egi_per_90</th>\n",
       "      <th>xP_per_90</th>\n",
       "      <th>P_per_90</th>\n",
       "    </tr>\n",
       "  </thead>\n",
       "  <tbody>\n",
       "  </tbody>\n",
       "</table>\n",
       "</div>"
      ],
      "text/plain": [
       "Empty DataFrame\n",
       "Columns: [name, total_points, xP, goals_scored, assists, expected_assists, expected_goals, expected_goal_involvements, minutes, value, goal_involvements, efficiency, egi_per_val, xP_per_val, P_per_val, egi_per_90, xP_per_90, P_per_90]\n",
       "Index: []"
      ]
     },
     "execution_count": 18,
     "metadata": {},
     "output_type": "execute_result"
    }
   ],
   "source": [
    "att_returns_player_grouped_df[att_returns_player_grouped_df[\"name\"].isin([\"Mavididi\"])]"
   ]
  },
  {
   "cell_type": "code",
   "execution_count": 19,
   "metadata": {},
   "outputs": [
    {
     "data": {
      "application/vnd.plotly.v1+json": {
       "config": {
        "plotlyServerURL": "https://plot.ly"
       },
       "data": [
        {
         "hovertemplate": "<b>%{hovertext}</b><br><br>expected_goals=%{x}<br>expected_assists=%{y}<br>value=%{marker.color}<extra></extra>",
         "hovertext": [
          "Abdoulaye Doucouré",
          "Abdul Fatawu",
          "Adam Armstrong",
          "Adam Lallana",
          "Adam Wharton",
          "Adama Traoré",
          "Alejandro Garnacho",
          "Alex Iwobi",
          "Alex Scott",
          "Alexander Isak",
          "Alexis Mac Allister",
          "Amad Diallo",
          "Amadou Onana",
          "Andreas Hoelgebaum Pereira",
          "André Trindade da Costa Neto",
          "Anthony Elanga",
          "Anthony Gordon",
          "Antoine Semenyo",
          "Ben Brereton Díaz",
          "Bernardo Veiga de Carvalho e Silva",
          "Bilal El Khannouss",
          "Billy Gilmour",
          "Bobby De Cordova-Reid",
          "Brennan Johnson",
          "Bruno Borges Fernandes",
          "Bruno Guimarães Rodriguez Moura",
          "Bryan Mbeumo",
          "Bukayo Saka",
          "Callum Hudson-Odoi",
          "Cameron Archer",
          "Carlos Baleba",
          "Carlos Henrique Casimiro",
          "Carlos Roberto Forbs Borges",
          "Carlos Soler",
          "Cheick Doucouré",
          "Chiedozie Ogbene",
          "Chris Wood",
          "Christian Eriksen",
          "Christian Nørgaard",
          "Christopher Nkunku",
          "Cody Gakpo",
          "Cole Palmer",
          "Conor Chaplin",
          "Crysencio Summerville",
          "Curtis Jones",
          "Daichi Kamada",
          "Dango Ouattara",
          "Danny Welbeck",
          "Darwin Núñez Ribeiro",
          "Declan Rice",
          "Dejan Kulusevski",
          "Diogo Teixeira da Silva",
          "Dominic Calvert-Lewin",
          "Dominic Solanke-Mitchell",
          "Dominik Szoboszlai",
          "Dwight McNeil",
          "Eberechi Eze",
          "Eddie Nketiah",
          "Edson Álvarez Velázquez",
          "Elliot Anderson",
          "Emile Smith Rowe",
          "Enes Ünal",
          "Enzo Fernández",
          "Evan Ferguson",
          "Facundo Buonanotte",
          "Flynn Downes",
          "Francisco Evanilson de Lima Barbosa",
          "Fábio Freitas Gouveia Carvalho",
          "Gabriel Fernando de Jesus",
          "Gabriel Martinelli Silva",
          "George Hirst",
          "Georginio Rutter",
          "Gonçalo Manuel Ganchinho Guedes",
          "Guido Rodríguez",
          "Harry Winks",
          "Harvey Barnes",
          "Hwang Hee-chan",
          "Ibrahim Sangaré",
          "Idrissa Gueye",
          "Iliman Ndiaye",
          "Ilkay Gündogan",
          "Ismaïla Sarr",
          "Jack Clarke",
          "Jack Grealish",
          "Jack Harrison",
          "Jack Hinshelwood",
          "Jack Taylor",
          "Jacob Murphy",
          "Jacob Ramsey",
          "Jaden Philogene",
          "Jadon Sancho",
          "James Garner",
          "James Maddison",
          "James Milner",
          "James Ward-Prowse",
          "Jamie Vardy",
          "Jarrod Bowen",
          "Jean-Philippe Mateta",
          "Jean-Ricner Bellegarde",
          "Jefferson Lerma Solís",
          "Jens Cajuste",
          "Jesper Lindstrøm",
          "Jhon Durán",
          "Joe Aribo",
          "Joe Willock",
          "Joelinton Cássio Apolinário de Lira",
          "John McGinn",
          "Jordan Ayew",
          "Jorge Luiz Frello Filho",
          "Joshua Zirkzee",
          "João Félix Sequeira",
          "João Pedro Ferreira Silva",
          "João Pedro Junqueira de Jesus",
          "João Victor Gomes da Silva",
          "Justin Kluivert",
          "Jérémy Doku",
          "Jørgen Strand Larsen",
          "Kai Havertz",
          "Kalvin Phillips",
          "Keane Lewis-Potter",
          "Kevin De Bruyne",
          "Kevin Schade",
          "Kobbie Mainoo",
          "Leandro Trossard",
          "Leon Bailey",
          "Lesley Ugochukwu",
          "Lewis Cook",
          "Liam Delap",
          "Lucas Tolentino Coelho de Lima",
          "Luis Díaz",
          "Luis Sinisterra",
          "Manuel Ugarte",
          "Marcus Rashford",
          "Marcus Tavernier",
          "Mario Lemina",
          "Martin Ødegaard",
          "Mason Mount",
          "Massimo Luongo",
          "Mateo Kovačić",
          "Mateus Gonçalo Espanha Fernandes",
          "Matheus Luiz Nunes",
          "Matheus Santos Carneiro Da Cunha",
          "Mathias Jensen",
          "Mats Wieffer",
          "Michail Antonio",
          "Miguel Almirón Rejala",
          "Mikel Merino",
          "Mikkel Damsgaard",
          "Mitoma Kaoru",
          "Mohammed Kudus",
          "Moisés Caicedo Corozo",
          "Morgan Gibbs-White",
          "Morgan Rogers",
          "Mykhailo Mudryk",
          "Nicolas Jackson",
          "Nicolás Domínguez",
          "Noni Madueke",
          "Odsonne Edouard",
          "Oliver Skipp",
          "Ollie Watkins",
          "Omari Giraud-Hutchinson",
          "Orel Mangala",
          "Pablo Sarabia",
          "Pape Matar Sarr",
          "Pedro Lomba Neto",
          "Phil Foden",
          "Raheem Sterling",
          "Rasmus Højlund",
          "Raúl Jiménez",
          "Reiss Nelson",
          "Renato Palma Veiga",
          "Rodrigo Bentancur",
          "Rodrigo Martins Gomes",
          "Rodrigo Muniz Carvalho",
          "Roméo Lavia",
          "Ross Barkley",
          "Ross Stewart",
          "Ryan Christie",
          "Ryan Fraser",
          "Ryan Gravenberch",
          "Ryan Yates",
          "Sam Morsy",
          "Sam Szmodics",
          "Sander Berge",
          "Sandro Tonali",
          "Saša Lukić",
          "Sean Longstaff",
          "Simon Adingra",
          "Son Heung-min",
          "Stephy Mavididi",
          "Sávio 'Savinho' Moreira de Oliveira",
          "Taiwo Awoniyi",
          "Thomas Partey",
          "Tim Iroegbunam",
          "Timo Werner",
          "Tom Cairney",
          "Tommy Doyle",
          "Tomáš Souček",
          "Tyler Dibling",
          "Vitaly Janelt",
          "Wes Burns",
          "Wilfred Ndidi",
          "Will Hughes",
          "Will Smallbone",
          "Wilson Odobert",
          "Yankuba Minteh",
          "Yasin Ayari",
          "Yehor Yarmoliuk",
          "Yoane Wissa",
          "Youri Tielemans",
          "Yves Bissouma"
         ],
         "legendgroup": "",
         "marker": {
          "color": [
           5.2,
           5.4,
           5.1,
           5,
           4.8,
           5.1,
           6.3,
           5.5,
           4.8,
           8.3,
           6.2,
           4.9,
           5,
           5.3,
           5,
           5.2,
           7.2,
           5.6,
           5.1,
           6.5,
           4.9,
           5,
           5.2,
           6.7,
           8.2,
           6.2,
           7.8,
           10.1,
           5.4,
           5,
           5,
           4.8,
           5.5,
           5,
           4.9,
           5,
           6.4,
           5.4,
           4.8,
           5.9,
           7.1,
           11,
           5.2,
           5.7,
           5.3,
           5.1,
           5,
           5.9,
           7.1,
           6.3,
           6.3,
           7.3,
           6,
           7.6,
           6.4,
           5.8,
           6.7,
           5.9,
           5,
           5,
           5.7,
           5.4,
           4.8,
           5.5,
           5.1,
           4.8,
           5.9,
           4.8,
           6.8,
           7,
           5.4,
           5.5,
           5.3,
           4.9,
           4.5,
           6.4,
           6.1,
           4.4,
           4.9,
           5.4,
           6.5,
           5.7,
           5.5,
           6.4,
           5.3,
           5,
           4.8,
           5.1,
           5.4,
           5.3,
           6.3,
           5,
           7.6,
           5,
           6.2,
           5.7,
           7.4,
           7.3,
           5,
           4.8,
           4.5,
           5.1,
           6.1,
           4.9,
           4.8,
           6,
           5.2,
           5.2,
           4.8,
           6.7,
           6.1,
           5.9,
           5.4,
           4.9,
           5.3,
           6.3,
           5.5,
           8.1,
           4.9,
           5,
           9.4,
           5.2,
           5.2,
           6.9,
           6.3,
           4.5,
           5,
           5.7,
           5.9,
           7.8,
           5,
           4.9,
           6.9,
           5.5,
           5,
           8.2,
           6.3,
           4.5,
           5.6,
           5,
           4.9,
           6.6,
           5.3,
           4.8,
           5.4,
           5.6,
           6,
           5,
           6.5,
           6.2,
           4.9,
           6.3,
           5.4,
           6.2,
           7.9,
           4.8,
           6.5,
           5.3,
           4.9,
           9.1,
           5.3,
           5,
           5.1,
           4.8,
           6.2,
           9.3,
           6.7,
           6.9,
           5.8,
           5,
           4.5,
           5,
           5.2,
           5.7,
           4.5,
           5.2,
           4.6,
           4.9,
           4.8,
           5,
           4.9,
           4.9,
           5.8,
           5,
           5.5,
           4.9,
           4.7,
           5.4,
           9.9,
           5.3,
           6.5,
           5.6,
           5,
           4.5,
           6.2,
           4.8,
           4.8,
           5,
           4.6,
           4.9,
           4.9,
           5,
           4.9,
           5,
           5.3,
           5.3,
           5,
           4.4,
           6,
           5.5,
           4.9
          ],
          "coloraxis": "coloraxis",
          "symbol": "circle"
         },
         "mode": "markers",
         "name": "",
         "orientation": "v",
         "showlegend": false,
         "type": "scatter",
         "x": [
          0.29000000000000004,
          0.4,
          1.14,
          0.15000000000000002,
          0.22,
          2.75,
          3.46,
          1,
          0.12000000000000001,
          3.72,
          0.32,
          0.47000000000000003,
          1.43,
          2.02,
          0.06999999999999999,
          0.61,
          3.4699999999999998,
          3.33,
          0.78,
          1.32,
          0.08,
          0.08,
          0.1,
          4.84,
          3.75,
          0.5700000000000001,
          3.79,
          2.4299999999999997,
          1.01,
          3.52,
          0.83,
          0.92,
          0.11,
          0.19,
          0.04,
          0,
          4.45,
          0.09000000000000001,
          1.07,
          2.02,
          0.6200000000000001,
          4.73,
          0.31,
          0.64,
          1.29,
          0.56,
          1.66,
          4.8100000000000005,
          0.53,
          0.74,
          1.37,
          2.7199999999999998,
          3.45,
          5.07,
          1.45,
          0.64,
          2.92,
          1.02,
          0.060000000000000005,
          0.71,
          1.94,
          0.66,
          0.48,
          0.19,
          2.38,
          0.46,
          3.0100000000000002,
          1.47,
          0.6699999999999999,
          1.53,
          0.77,
          1.77,
          0.12,
          0.06,
          0.12,
          1.46,
          0,
          0.02,
          0.7,
          0.83,
          1.26,
          1.15,
          0.53,
          0.54,
          1.1800000000000002,
          0.39,
          0.31,
          0.31,
          0.5700000000000001,
          0.23,
          0.08,
          0.05,
          2.36,
          0.16,
          0.060000000000000005,
          3.5100000000000002,
          1.92,
          2.41,
          0.25,
          0.11,
          0.02,
          0.61,
          2.38,
          1.27,
          0.22,
          1.51,
          0.58,
          1.63,
          0.04,
          2.59,
          0.47000000000000003,
          0.25,
          0.9,
          0.39,
          1.92,
          0.44,
          2.48,
          4.5,
          0.31,
          0.84,
          1.2100000000000002,
          1.1900000000000002,
          0.13,
          1.53,
          0.39,
          0.21,
          0.33,
          1.52,
          2.14,
          2.8899999999999997,
          1.09,
          0,
          0.88,
          2.52,
          0.9500000000000001,
          0.46,
          0.39,
          0,
          0.96,
          0.45,
          0.1,
          2.3000000000000003,
          0.1,
          0.17,
          1.9000000000000001,
          0.36,
          0.92,
          0.73,
          2.35,
          2.83,
          0.26,
          1.03,
          2.32,
          0.24,
          5.890000000000001,
          0.67,
          2.59,
          0.39,
          0.05,
          4.779999999999999,
          0.61,
          0.27,
          0.45999999999999996,
          0.7,
          0.37,
          0.79,
          0.33,
          0.86,
          3.44,
          0.67,
          0.16,
          0.46,
          0.060000000000000005,
          1.41,
          0,
          0.75,
          0.17,
          0.37,
          0.02,
          0.18,
          1.2,
          0.22,
          2.02,
          0,
          0.76,
          0,
          0.22999999999999998,
          0.32,
          1.79,
          0.97,
          1.12,
          0.44,
          0.32,
          0.21000000000000002,
          0.76,
          0,
          0.28,
          2.13,
          0.9199999999999999,
          0.28,
          0.23,
          0.28,
          0.36,
          0.31,
          0.42,
          0.8300000000000001,
          0.61,
          0.22000000000000003,
          3.87,
          0.54,
          0.26
         ],
         "xaxis": "x",
         "y": [
          0.16,
          1.38,
          0.27,
          0.21,
          0.6,
          1.9100000000000001,
          0.48000000000000004,
          2.15,
          0.17,
          0.62,
          1.3399999999999999,
          0.95,
          0.19,
          2.15,
          0.04,
          0.85,
          1.54,
          1.74,
          0.14,
          1.85,
          0.35000000000000003,
          0.04,
          0.06,
          0.5800000000000001,
          1.79,
          0.9800000000000001,
          2.42,
          3.41,
          1.09,
          0.11,
          0.18,
          1.34,
          0.09,
          0.1,
          0.01,
          0.05,
          0.18,
          1.06,
          0.16,
          0.19,
          0.65,
          2.5,
          0.21000000000000002,
          0.43000000000000005,
          0.08,
          0.46,
          0.89,
          0.33,
          0.17,
          1.1600000000000001,
          1.6400000000000001,
          0.31999999999999995,
          0.46,
          0.59,
          1.03,
          3.46,
          1.38,
          0.39,
          0.27999999999999997,
          0.9700000000000001,
          1.1,
          0.08,
          0.67,
          0,
          0.9400000000000001,
          1.11,
          0.59,
          0.44000000000000006,
          0.06999999999999999,
          1.85,
          0.08,
          0.9400000000000001,
          0.13,
          0.1,
          1.14,
          1.34,
          0.16,
          0.060000000000000005,
          0.26,
          0.41,
          1.21,
          0.87,
          0.36000000000000004,
          1.04,
          0.8400000000000001,
          0.68,
          0.1,
          1.2000000000000002,
          1.1600000000000001,
          0.05,
          0.86,
          0.05,
          3.65,
          0.15,
          0.21000000000000002,
          0.6100000000000001,
          2.38,
          0.37000000000000005,
          0.45,
          0.4,
          0.13,
          0.61,
          0.18000000000000002,
          0.55,
          0.34,
          0.4,
          0.65,
          0.18,
          0.15000000000000002,
          0.34,
          0.11,
          0.35,
          0.26,
          0.16,
          0.76,
          1.05,
          0.45,
          1.1099999999999999,
          0.22,
          1.22,
          2.17,
          0.060000000000000005,
          0.45,
          0.38,
          1.29,
          0.05,
          1.32,
          0.09,
          0.7000000000000001,
          1.16,
          0.91,
          0.01,
          1.21,
          1.13,
          0.43,
          0.74,
          0.04,
          0,
          1.03,
          0.43000000000000005,
          1.21,
          1.82,
          0.5,
          0.11000000000000001,
          0.84,
          0.14,
          0.31,
          1.76,
          1.73,
          0.86,
          1.18,
          0.97,
          1.44,
          0.54,
          0.32,
          0.22999999999999998,
          0.65,
          0.07,
          0.21,
          0.56,
          0.93,
          0.1,
          0.4,
          0.27,
          0.78,
          2.49,
          0.05,
          0.07,
          1.1199999999999999,
          0.5,
          0.15000000000000002,
          0.21000000000000002,
          0.01,
          0.03,
          0.22999999999999998,
          0.2,
          0.02,
          0.29,
          0.09,
          1.15,
          0.27999999999999997,
          0.64,
          0.13,
          0.1,
          0.19,
          0.2,
          0.05,
          0.6700000000000002,
          1.71,
          1.6,
          2.71,
          0.06999999999999999,
          0.48,
          0.08,
          0.21,
          0.5399999999999999,
          0.11,
          0.55,
          0.61,
          0.74,
          0.5800000000000001,
          1.09,
          0.37,
          0.54,
          0.08,
          1.2,
          0.7899999999999999,
          0.05,
          0.31,
          2.26,
          0.25
         ],
         "yaxis": "y"
        }
       ],
       "layout": {
        "coloraxis": {
         "colorbar": {
          "title": {
           "text": "value"
          }
         },
         "colorscale": [
          [
           0,
           "#fde725"
          ],
          [
           0.1111111111111111,
           "#b5de2b"
          ],
          [
           0.2222222222222222,
           "#6ece58"
          ],
          [
           0.3333333333333333,
           "#35b779"
          ],
          [
           0.4444444444444444,
           "#1f9e89"
          ],
          [
           0.5555555555555556,
           "#26828e"
          ],
          [
           0.6666666666666666,
           "#31688e"
          ],
          [
           0.7777777777777778,
           "#3e4989"
          ],
          [
           0.8888888888888888,
           "#482878"
          ],
          [
           1,
           "#440154"
          ]
         ]
        },
        "height": 600,
        "legend": {
         "tracegroupgap": 0
        },
        "template": {
         "data": {
          "bar": [
           {
            "error_x": {
             "color": "#2a3f5f"
            },
            "error_y": {
             "color": "#2a3f5f"
            },
            "marker": {
             "line": {
              "color": "#E5ECF6",
              "width": 0.5
             },
             "pattern": {
              "fillmode": "overlay",
              "size": 10,
              "solidity": 0.2
             }
            },
            "type": "bar"
           }
          ],
          "barpolar": [
           {
            "marker": {
             "line": {
              "color": "#E5ECF6",
              "width": 0.5
             },
             "pattern": {
              "fillmode": "overlay",
              "size": 10,
              "solidity": 0.2
             }
            },
            "type": "barpolar"
           }
          ],
          "carpet": [
           {
            "aaxis": {
             "endlinecolor": "#2a3f5f",
             "gridcolor": "white",
             "linecolor": "white",
             "minorgridcolor": "white",
             "startlinecolor": "#2a3f5f"
            },
            "baxis": {
             "endlinecolor": "#2a3f5f",
             "gridcolor": "white",
             "linecolor": "white",
             "minorgridcolor": "white",
             "startlinecolor": "#2a3f5f"
            },
            "type": "carpet"
           }
          ],
          "choropleth": [
           {
            "colorbar": {
             "outlinewidth": 0,
             "ticks": ""
            },
            "type": "choropleth"
           }
          ],
          "contour": [
           {
            "colorbar": {
             "outlinewidth": 0,
             "ticks": ""
            },
            "colorscale": [
             [
              0,
              "#0d0887"
             ],
             [
              0.1111111111111111,
              "#46039f"
             ],
             [
              0.2222222222222222,
              "#7201a8"
             ],
             [
              0.3333333333333333,
              "#9c179e"
             ],
             [
              0.4444444444444444,
              "#bd3786"
             ],
             [
              0.5555555555555556,
              "#d8576b"
             ],
             [
              0.6666666666666666,
              "#ed7953"
             ],
             [
              0.7777777777777778,
              "#fb9f3a"
             ],
             [
              0.8888888888888888,
              "#fdca26"
             ],
             [
              1,
              "#f0f921"
             ]
            ],
            "type": "contour"
           }
          ],
          "contourcarpet": [
           {
            "colorbar": {
             "outlinewidth": 0,
             "ticks": ""
            },
            "type": "contourcarpet"
           }
          ],
          "heatmap": [
           {
            "colorbar": {
             "outlinewidth": 0,
             "ticks": ""
            },
            "colorscale": [
             [
              0,
              "#0d0887"
             ],
             [
              0.1111111111111111,
              "#46039f"
             ],
             [
              0.2222222222222222,
              "#7201a8"
             ],
             [
              0.3333333333333333,
              "#9c179e"
             ],
             [
              0.4444444444444444,
              "#bd3786"
             ],
             [
              0.5555555555555556,
              "#d8576b"
             ],
             [
              0.6666666666666666,
              "#ed7953"
             ],
             [
              0.7777777777777778,
              "#fb9f3a"
             ],
             [
              0.8888888888888888,
              "#fdca26"
             ],
             [
              1,
              "#f0f921"
             ]
            ],
            "type": "heatmap"
           }
          ],
          "heatmapgl": [
           {
            "colorbar": {
             "outlinewidth": 0,
             "ticks": ""
            },
            "colorscale": [
             [
              0,
              "#0d0887"
             ],
             [
              0.1111111111111111,
              "#46039f"
             ],
             [
              0.2222222222222222,
              "#7201a8"
             ],
             [
              0.3333333333333333,
              "#9c179e"
             ],
             [
              0.4444444444444444,
              "#bd3786"
             ],
             [
              0.5555555555555556,
              "#d8576b"
             ],
             [
              0.6666666666666666,
              "#ed7953"
             ],
             [
              0.7777777777777778,
              "#fb9f3a"
             ],
             [
              0.8888888888888888,
              "#fdca26"
             ],
             [
              1,
              "#f0f921"
             ]
            ],
            "type": "heatmapgl"
           }
          ],
          "histogram": [
           {
            "marker": {
             "pattern": {
              "fillmode": "overlay",
              "size": 10,
              "solidity": 0.2
             }
            },
            "type": "histogram"
           }
          ],
          "histogram2d": [
           {
            "colorbar": {
             "outlinewidth": 0,
             "ticks": ""
            },
            "colorscale": [
             [
              0,
              "#0d0887"
             ],
             [
              0.1111111111111111,
              "#46039f"
             ],
             [
              0.2222222222222222,
              "#7201a8"
             ],
             [
              0.3333333333333333,
              "#9c179e"
             ],
             [
              0.4444444444444444,
              "#bd3786"
             ],
             [
              0.5555555555555556,
              "#d8576b"
             ],
             [
              0.6666666666666666,
              "#ed7953"
             ],
             [
              0.7777777777777778,
              "#fb9f3a"
             ],
             [
              0.8888888888888888,
              "#fdca26"
             ],
             [
              1,
              "#f0f921"
             ]
            ],
            "type": "histogram2d"
           }
          ],
          "histogram2dcontour": [
           {
            "colorbar": {
             "outlinewidth": 0,
             "ticks": ""
            },
            "colorscale": [
             [
              0,
              "#0d0887"
             ],
             [
              0.1111111111111111,
              "#46039f"
             ],
             [
              0.2222222222222222,
              "#7201a8"
             ],
             [
              0.3333333333333333,
              "#9c179e"
             ],
             [
              0.4444444444444444,
              "#bd3786"
             ],
             [
              0.5555555555555556,
              "#d8576b"
             ],
             [
              0.6666666666666666,
              "#ed7953"
             ],
             [
              0.7777777777777778,
              "#fb9f3a"
             ],
             [
              0.8888888888888888,
              "#fdca26"
             ],
             [
              1,
              "#f0f921"
             ]
            ],
            "type": "histogram2dcontour"
           }
          ],
          "mesh3d": [
           {
            "colorbar": {
             "outlinewidth": 0,
             "ticks": ""
            },
            "type": "mesh3d"
           }
          ],
          "parcoords": [
           {
            "line": {
             "colorbar": {
              "outlinewidth": 0,
              "ticks": ""
             }
            },
            "type": "parcoords"
           }
          ],
          "pie": [
           {
            "automargin": true,
            "type": "pie"
           }
          ],
          "scatter": [
           {
            "fillpattern": {
             "fillmode": "overlay",
             "size": 10,
             "solidity": 0.2
            },
            "type": "scatter"
           }
          ],
          "scatter3d": [
           {
            "line": {
             "colorbar": {
              "outlinewidth": 0,
              "ticks": ""
             }
            },
            "marker": {
             "colorbar": {
              "outlinewidth": 0,
              "ticks": ""
             }
            },
            "type": "scatter3d"
           }
          ],
          "scattercarpet": [
           {
            "marker": {
             "colorbar": {
              "outlinewidth": 0,
              "ticks": ""
             }
            },
            "type": "scattercarpet"
           }
          ],
          "scattergeo": [
           {
            "marker": {
             "colorbar": {
              "outlinewidth": 0,
              "ticks": ""
             }
            },
            "type": "scattergeo"
           }
          ],
          "scattergl": [
           {
            "marker": {
             "colorbar": {
              "outlinewidth": 0,
              "ticks": ""
             }
            },
            "type": "scattergl"
           }
          ],
          "scattermapbox": [
           {
            "marker": {
             "colorbar": {
              "outlinewidth": 0,
              "ticks": ""
             }
            },
            "type": "scattermapbox"
           }
          ],
          "scatterpolar": [
           {
            "marker": {
             "colorbar": {
              "outlinewidth": 0,
              "ticks": ""
             }
            },
            "type": "scatterpolar"
           }
          ],
          "scatterpolargl": [
           {
            "marker": {
             "colorbar": {
              "outlinewidth": 0,
              "ticks": ""
             }
            },
            "type": "scatterpolargl"
           }
          ],
          "scatterternary": [
           {
            "marker": {
             "colorbar": {
              "outlinewidth": 0,
              "ticks": ""
             }
            },
            "type": "scatterternary"
           }
          ],
          "surface": [
           {
            "colorbar": {
             "outlinewidth": 0,
             "ticks": ""
            },
            "colorscale": [
             [
              0,
              "#0d0887"
             ],
             [
              0.1111111111111111,
              "#46039f"
             ],
             [
              0.2222222222222222,
              "#7201a8"
             ],
             [
              0.3333333333333333,
              "#9c179e"
             ],
             [
              0.4444444444444444,
              "#bd3786"
             ],
             [
              0.5555555555555556,
              "#d8576b"
             ],
             [
              0.6666666666666666,
              "#ed7953"
             ],
             [
              0.7777777777777778,
              "#fb9f3a"
             ],
             [
              0.8888888888888888,
              "#fdca26"
             ],
             [
              1,
              "#f0f921"
             ]
            ],
            "type": "surface"
           }
          ],
          "table": [
           {
            "cells": {
             "fill": {
              "color": "#EBF0F8"
             },
             "line": {
              "color": "white"
             }
            },
            "header": {
             "fill": {
              "color": "#C8D4E3"
             },
             "line": {
              "color": "white"
             }
            },
            "type": "table"
           }
          ]
         },
         "layout": {
          "annotationdefaults": {
           "arrowcolor": "#2a3f5f",
           "arrowhead": 0,
           "arrowwidth": 1
          },
          "autotypenumbers": "strict",
          "coloraxis": {
           "colorbar": {
            "outlinewidth": 0,
            "ticks": ""
           }
          },
          "colorscale": {
           "diverging": [
            [
             0,
             "#8e0152"
            ],
            [
             0.1,
             "#c51b7d"
            ],
            [
             0.2,
             "#de77ae"
            ],
            [
             0.3,
             "#f1b6da"
            ],
            [
             0.4,
             "#fde0ef"
            ],
            [
             0.5,
             "#f7f7f7"
            ],
            [
             0.6,
             "#e6f5d0"
            ],
            [
             0.7,
             "#b8e186"
            ],
            [
             0.8,
             "#7fbc41"
            ],
            [
             0.9,
             "#4d9221"
            ],
            [
             1,
             "#276419"
            ]
           ],
           "sequential": [
            [
             0,
             "#0d0887"
            ],
            [
             0.1111111111111111,
             "#46039f"
            ],
            [
             0.2222222222222222,
             "#7201a8"
            ],
            [
             0.3333333333333333,
             "#9c179e"
            ],
            [
             0.4444444444444444,
             "#bd3786"
            ],
            [
             0.5555555555555556,
             "#d8576b"
            ],
            [
             0.6666666666666666,
             "#ed7953"
            ],
            [
             0.7777777777777778,
             "#fb9f3a"
            ],
            [
             0.8888888888888888,
             "#fdca26"
            ],
            [
             1,
             "#f0f921"
            ]
           ],
           "sequentialminus": [
            [
             0,
             "#0d0887"
            ],
            [
             0.1111111111111111,
             "#46039f"
            ],
            [
             0.2222222222222222,
             "#7201a8"
            ],
            [
             0.3333333333333333,
             "#9c179e"
            ],
            [
             0.4444444444444444,
             "#bd3786"
            ],
            [
             0.5555555555555556,
             "#d8576b"
            ],
            [
             0.6666666666666666,
             "#ed7953"
            ],
            [
             0.7777777777777778,
             "#fb9f3a"
            ],
            [
             0.8888888888888888,
             "#fdca26"
            ],
            [
             1,
             "#f0f921"
            ]
           ]
          },
          "colorway": [
           "#636efa",
           "#EF553B",
           "#00cc96",
           "#ab63fa",
           "#FFA15A",
           "#19d3f3",
           "#FF6692",
           "#B6E880",
           "#FF97FF",
           "#FECB52"
          ],
          "font": {
           "color": "#2a3f5f"
          },
          "geo": {
           "bgcolor": "white",
           "lakecolor": "white",
           "landcolor": "#E5ECF6",
           "showlakes": true,
           "showland": true,
           "subunitcolor": "white"
          },
          "hoverlabel": {
           "align": "left"
          },
          "hovermode": "closest",
          "mapbox": {
           "style": "light"
          },
          "paper_bgcolor": "white",
          "plot_bgcolor": "#E5ECF6",
          "polar": {
           "angularaxis": {
            "gridcolor": "white",
            "linecolor": "white",
            "ticks": ""
           },
           "bgcolor": "#E5ECF6",
           "radialaxis": {
            "gridcolor": "white",
            "linecolor": "white",
            "ticks": ""
           }
          },
          "scene": {
           "xaxis": {
            "backgroundcolor": "#E5ECF6",
            "gridcolor": "white",
            "gridwidth": 2,
            "linecolor": "white",
            "showbackground": true,
            "ticks": "",
            "zerolinecolor": "white"
           },
           "yaxis": {
            "backgroundcolor": "#E5ECF6",
            "gridcolor": "white",
            "gridwidth": 2,
            "linecolor": "white",
            "showbackground": true,
            "ticks": "",
            "zerolinecolor": "white"
           },
           "zaxis": {
            "backgroundcolor": "#E5ECF6",
            "gridcolor": "white",
            "gridwidth": 2,
            "linecolor": "white",
            "showbackground": true,
            "ticks": "",
            "zerolinecolor": "white"
           }
          },
          "shapedefaults": {
           "line": {
            "color": "#2a3f5f"
           }
          },
          "ternary": {
           "aaxis": {
            "gridcolor": "white",
            "linecolor": "white",
            "ticks": ""
           },
           "baxis": {
            "gridcolor": "white",
            "linecolor": "white",
            "ticks": ""
           },
           "bgcolor": "#E5ECF6",
           "caxis": {
            "gridcolor": "white",
            "linecolor": "white",
            "ticks": ""
           }
          },
          "title": {
           "x": 0.05
          },
          "xaxis": {
           "automargin": true,
           "gridcolor": "white",
           "linecolor": "white",
           "ticks": "",
           "title": {
            "standoff": 15
           },
           "zerolinecolor": "white",
           "zerolinewidth": 2
          },
          "yaxis": {
           "automargin": true,
           "gridcolor": "white",
           "linecolor": "white",
           "ticks": "",
           "title": {
            "standoff": 15
           },
           "zerolinecolor": "white",
           "zerolinewidth": 2
          }
         }
        },
        "title": {
         "text": "Attacking Players Plot"
        },
        "width": 1200,
        "xaxis": {
         "anchor": "y",
         "domain": [
          0,
          1
         ],
         "title": {
          "text": "expected_goals"
         }
        },
        "yaxis": {
         "anchor": "x",
         "domain": [
          0,
          1
         ],
         "title": {
          "text": "expected_assists"
         }
        }
       }
      }
     },
     "metadata": {},
     "output_type": "display_data"
    }
   ],
   "source": [
    "### INPUTS:\n",
    "\n",
    "AM_PRICE_MAX = 11\n",
    "AM_ATTR_LIST = [\"value\", \"total_points\", \"egi_per_val\", \"xP_per_val\", \"P_per_val\", \"egi_per_90\", \"xP_per_90\", \"P_per_90\", \"efficiency\"]\n",
    "AM_IDX = 0\n",
    "\n",
    "# Plotting Code\n",
    "\n",
    "plot_df = att_returns_player_grouped_df[(att_returns_player_grouped_df[\"value\"] <= AM_PRICE_MAX) & (att_returns_player_grouped_df[\"minutes\"] > 90)]\n",
    "MASK = plot_df[AM_ATTR_LIST[AM_IDX]] > 0\n",
    "\n",
    "color = px.colors.sequential.Viridis\n",
    "if AM_ATTR_LIST[AM_IDX] == \"value\":\n",
    "    color = px.colors.sequential.Viridis_r\n",
    "\n",
    "am_fig = px.scatter(plot_df[MASK], x= \"expected_goals\", y= \"expected_assists\",\n",
    "           hover_name= \"name\", color= AM_ATTR_LIST[AM_IDX], color_continuous_scale= color, title= \"Attacking Players Plot\", width= 1200, height= 600)\n",
    "\n",
    "am_fig.show()"
   ]
  },
  {
   "cell_type": "code",
   "execution_count": 20,
   "metadata": {},
   "outputs": [],
   "source": [
    "def_df = df[df[\"position\"] == \"DEF\"]\n",
    "\n",
    "def_returns_player_grouped_df = def_df.groupby(\"name\")[[\"expected_goal_involvements\", \"expected_goals_conceded\", \"goals_conceded\",\n",
    "                                                        \"xP\", \"total_points\"]].sum()\n",
    "\n",
    "def_returns_player_grouped_df.reset_index(inplace= True)\n",
    "def_returns_player_grouped_df = def_returns_player_grouped_df.merge(df_og[df_og[\"GW\"] == df_og[\"GW\"].max()][[\"name\", \"value\"]], how= \"left\", on= \"name\")\n",
    "\n",
    "def_returns_player_grouped_df[\"efficiency\"] = def_returns_player_grouped_df[\"expected_goals_conceded\"] / def_returns_player_grouped_df[\"goals_conceded\"]\n",
    "def_returns_player_grouped_df[\"egi_per_val\"] = def_returns_player_grouped_df[\"expected_goal_involvements\"] / def_returns_player_grouped_df[\"value\"]\n",
    "def_returns_player_grouped_df[\"xP_per_val\"] = def_returns_player_grouped_df[\"xP\"] / def_returns_player_grouped_df[\"value\"]\n",
    "def_returns_player_grouped_df[\"P_per_val\"] = def_returns_player_grouped_df[\"total_points\"] / def_returns_player_grouped_df[\"value\"]\n",
    "\n"
   ]
  },
  {
   "cell_type": "code",
   "execution_count": 21,
   "metadata": {},
   "outputs": [
    {
     "data": {
      "application/vnd.plotly.v1+json": {
       "config": {
        "plotlyServerURL": "https://plot.ly"
       },
       "data": [
        {
         "hovertemplate": "<b>%{hovertext}</b><br><br>expected_goals_conceded=%{x}<br>goals_conceded=%{y}<br>P_per_val=%{marker.color}<extra></extra>",
         "hovertext": [
          "Andrew Robertson",
          "Antonee Robinson",
          "Ashley Young",
          "Benjamin White",
          "Calvin Bassey",
          "Cristian Romero",
          "Dan Burn",
          "Daniel Muñoz",
          "Destiny Udogie",
          "Diogo Dalot Teixeira",
          "Ethan Pinnock",
          "Ezri Konsa Ngoyo",
          "Ferdi Kadioglu",
          "Gabriel dos Santos Magalhães",
          "Ibrahima Konaté",
          "Illia Zabarnyi",
          "James Justin",
          "James Tarkowski",
          "Jan Paul van Hecke",
          "Joël Veltman",
          "Joško Gvardiol",
          "Kenny Tete",
          "Kyle Walker-Peters",
          "Leif Davis",
          "Levi Colwill",
          "Lewis Dunk",
          "Lewis Hall",
          "Lisandro Martínez",
          "Lucas Digne",
          "Manuel Akanji",
          "Marc Guéhi",
          "Matthijs de Ligt",
          "Max Kilman",
          "Maxence Lacroix",
          "Michael Keane",
          "Micky van de Ven",
          "Milos Kerkez",
          "Murillo Santiago Costa dos Santos",
          "Nathan Collins",
          "Nikola Milenković",
          "Noussair Mazraoui",
          "Ola Aina",
          "Pedro Porro",
          "Rayan Aït-Nouri",
          "Rico Lewis",
          "Sugawara Yukinari",
          "Taylor Harwood-Bellis",
          "Tino Livramento",
          "Trent Alexander-Arnold",
          "Trevoh Chalobah",
          "Tyrick Mitchell",
          "Virgil van Dijk",
          "Wout Faes",
          "Álex Moreno Lopera"
         ],
         "legendgroup": "",
         "marker": {
          "color": [
           5.166666666666667,
           7.234042553191489,
           6.444444444444445,
           4.126984126984127,
           4.222222222222222,
           6.470588235294118,
           5.909090909090908,
           5,
           4.489795918367347,
           7.450980392156863,
           4.888888888888889,
           4.222222222222222,
           4.222222222222222,
           6.935483870967742,
           7.547169811320755,
           5,
           6.739130434782609,
           4.583333333333334,
           4.888888888888889,
           6.666666666666667,
           7.903225806451613,
           4.444444444444445,
           4.7727272727272725,
           6.888888888888889,
           5,
           4.888888888888889,
           6.976744186046512,
           5.227272727272727,
           7.446808510638298,
           4.181818181818182,
           8.181818181818182,
           5.8,
           4.666666666666667,
           4.444444444444445,
           7.441860465116279,
           5.74468085106383,
           6.59090909090909,
           8.222222222222221,
           6.222222222222222,
           7.777777777777778,
           6.888888888888889,
           10.217391304347826,
           5.636363636363637,
           6.521739130434783,
           6.25,
           5.111111111111111,
           5.365853658536586,
           5.555555555555555,
           6.571428571428571,
           4.3181818181818175,
           5.1020408163265305,
           8.064516129032258,
           5.238095238095238,
           5.909090909090908
          ],
          "coloraxis": "coloraxis",
          "symbol": "circle"
         },
         "mode": "markers",
         "name": "",
         "orientation": "v",
         "showlegend": false,
         "type": "scatter",
         "x": [
          6,
          11.22,
          10.26,
          8.59,
          11.22,
          10.9,
          13.93,
          13.18,
          10.73,
          16.349999999999998,
          17.12,
          9.27,
          9.44,
          10.190000000000001,
          7.26,
          13.16,
          18.85,
          15.11,
          8.92,
          10.97,
          10.02,
          10.58,
          18.7,
          23.1,
          13.3,
          13.39,
          9.4,
          15.93,
          9.45,
          9.2,
          14.34,
          13.89,
          17.34,
          9.09,
          14.16,
          7.75,
          12.870000000000001,
          9.59,
          17.12,
          8.37,
          14.32,
          8.92,
          11.31,
          17.63,
          8.4,
          15.27,
          18.11,
          9.72,
          7.21,
          5.18,
          13.75,
          7.99,
          19.85,
          5.52
         ],
         "xaxis": "x",
         "y": [
          5,
          13,
          10,
          6,
          13,
          11,
          10,
          13,
          11,
          12,
          20,
          14,
          8,
          10,
          6,
          12,
          17,
          17,
          8,
          10,
          10,
          12,
          15,
          21,
          12,
          10,
          6,
          12,
          13,
          9,
          13,
          11,
          19,
          8,
          16,
          8,
          12,
          7,
          20,
          6,
          10,
          6,
          11,
          26,
          7,
          15,
          15,
          7,
          6,
          4,
          13,
          6,
          18,
          5
         ],
         "yaxis": "y"
        }
       ],
       "layout": {
        "coloraxis": {
         "colorbar": {
          "title": {
           "text": "P_per_val"
          }
         },
         "colorscale": [
          [
           0,
           "#fde725"
          ],
          [
           0.1111111111111111,
           "#b5de2b"
          ],
          [
           0.2222222222222222,
           "#6ece58"
          ],
          [
           0.3333333333333333,
           "#35b779"
          ],
          [
           0.4444444444444444,
           "#1f9e89"
          ],
          [
           0.5555555555555556,
           "#26828e"
          ],
          [
           0.6666666666666666,
           "#31688e"
          ],
          [
           0.7777777777777778,
           "#3e4989"
          ],
          [
           0.8888888888888888,
           "#482878"
          ],
          [
           1,
           "#440154"
          ]
         ]
        },
        "height": 600,
        "legend": {
         "tracegroupgap": 0
        },
        "template": {
         "data": {
          "bar": [
           {
            "error_x": {
             "color": "#2a3f5f"
            },
            "error_y": {
             "color": "#2a3f5f"
            },
            "marker": {
             "line": {
              "color": "#E5ECF6",
              "width": 0.5
             },
             "pattern": {
              "fillmode": "overlay",
              "size": 10,
              "solidity": 0.2
             }
            },
            "type": "bar"
           }
          ],
          "barpolar": [
           {
            "marker": {
             "line": {
              "color": "#E5ECF6",
              "width": 0.5
             },
             "pattern": {
              "fillmode": "overlay",
              "size": 10,
              "solidity": 0.2
             }
            },
            "type": "barpolar"
           }
          ],
          "carpet": [
           {
            "aaxis": {
             "endlinecolor": "#2a3f5f",
             "gridcolor": "white",
             "linecolor": "white",
             "minorgridcolor": "white",
             "startlinecolor": "#2a3f5f"
            },
            "baxis": {
             "endlinecolor": "#2a3f5f",
             "gridcolor": "white",
             "linecolor": "white",
             "minorgridcolor": "white",
             "startlinecolor": "#2a3f5f"
            },
            "type": "carpet"
           }
          ],
          "choropleth": [
           {
            "colorbar": {
             "outlinewidth": 0,
             "ticks": ""
            },
            "type": "choropleth"
           }
          ],
          "contour": [
           {
            "colorbar": {
             "outlinewidth": 0,
             "ticks": ""
            },
            "colorscale": [
             [
              0,
              "#0d0887"
             ],
             [
              0.1111111111111111,
              "#46039f"
             ],
             [
              0.2222222222222222,
              "#7201a8"
             ],
             [
              0.3333333333333333,
              "#9c179e"
             ],
             [
              0.4444444444444444,
              "#bd3786"
             ],
             [
              0.5555555555555556,
              "#d8576b"
             ],
             [
              0.6666666666666666,
              "#ed7953"
             ],
             [
              0.7777777777777778,
              "#fb9f3a"
             ],
             [
              0.8888888888888888,
              "#fdca26"
             ],
             [
              1,
              "#f0f921"
             ]
            ],
            "type": "contour"
           }
          ],
          "contourcarpet": [
           {
            "colorbar": {
             "outlinewidth": 0,
             "ticks": ""
            },
            "type": "contourcarpet"
           }
          ],
          "heatmap": [
           {
            "colorbar": {
             "outlinewidth": 0,
             "ticks": ""
            },
            "colorscale": [
             [
              0,
              "#0d0887"
             ],
             [
              0.1111111111111111,
              "#46039f"
             ],
             [
              0.2222222222222222,
              "#7201a8"
             ],
             [
              0.3333333333333333,
              "#9c179e"
             ],
             [
              0.4444444444444444,
              "#bd3786"
             ],
             [
              0.5555555555555556,
              "#d8576b"
             ],
             [
              0.6666666666666666,
              "#ed7953"
             ],
             [
              0.7777777777777778,
              "#fb9f3a"
             ],
             [
              0.8888888888888888,
              "#fdca26"
             ],
             [
              1,
              "#f0f921"
             ]
            ],
            "type": "heatmap"
           }
          ],
          "heatmapgl": [
           {
            "colorbar": {
             "outlinewidth": 0,
             "ticks": ""
            },
            "colorscale": [
             [
              0,
              "#0d0887"
             ],
             [
              0.1111111111111111,
              "#46039f"
             ],
             [
              0.2222222222222222,
              "#7201a8"
             ],
             [
              0.3333333333333333,
              "#9c179e"
             ],
             [
              0.4444444444444444,
              "#bd3786"
             ],
             [
              0.5555555555555556,
              "#d8576b"
             ],
             [
              0.6666666666666666,
              "#ed7953"
             ],
             [
              0.7777777777777778,
              "#fb9f3a"
             ],
             [
              0.8888888888888888,
              "#fdca26"
             ],
             [
              1,
              "#f0f921"
             ]
            ],
            "type": "heatmapgl"
           }
          ],
          "histogram": [
           {
            "marker": {
             "pattern": {
              "fillmode": "overlay",
              "size": 10,
              "solidity": 0.2
             }
            },
            "type": "histogram"
           }
          ],
          "histogram2d": [
           {
            "colorbar": {
             "outlinewidth": 0,
             "ticks": ""
            },
            "colorscale": [
             [
              0,
              "#0d0887"
             ],
             [
              0.1111111111111111,
              "#46039f"
             ],
             [
              0.2222222222222222,
              "#7201a8"
             ],
             [
              0.3333333333333333,
              "#9c179e"
             ],
             [
              0.4444444444444444,
              "#bd3786"
             ],
             [
              0.5555555555555556,
              "#d8576b"
             ],
             [
              0.6666666666666666,
              "#ed7953"
             ],
             [
              0.7777777777777778,
              "#fb9f3a"
             ],
             [
              0.8888888888888888,
              "#fdca26"
             ],
             [
              1,
              "#f0f921"
             ]
            ],
            "type": "histogram2d"
           }
          ],
          "histogram2dcontour": [
           {
            "colorbar": {
             "outlinewidth": 0,
             "ticks": ""
            },
            "colorscale": [
             [
              0,
              "#0d0887"
             ],
             [
              0.1111111111111111,
              "#46039f"
             ],
             [
              0.2222222222222222,
              "#7201a8"
             ],
             [
              0.3333333333333333,
              "#9c179e"
             ],
             [
              0.4444444444444444,
              "#bd3786"
             ],
             [
              0.5555555555555556,
              "#d8576b"
             ],
             [
              0.6666666666666666,
              "#ed7953"
             ],
             [
              0.7777777777777778,
              "#fb9f3a"
             ],
             [
              0.8888888888888888,
              "#fdca26"
             ],
             [
              1,
              "#f0f921"
             ]
            ],
            "type": "histogram2dcontour"
           }
          ],
          "mesh3d": [
           {
            "colorbar": {
             "outlinewidth": 0,
             "ticks": ""
            },
            "type": "mesh3d"
           }
          ],
          "parcoords": [
           {
            "line": {
             "colorbar": {
              "outlinewidth": 0,
              "ticks": ""
             }
            },
            "type": "parcoords"
           }
          ],
          "pie": [
           {
            "automargin": true,
            "type": "pie"
           }
          ],
          "scatter": [
           {
            "fillpattern": {
             "fillmode": "overlay",
             "size": 10,
             "solidity": 0.2
            },
            "type": "scatter"
           }
          ],
          "scatter3d": [
           {
            "line": {
             "colorbar": {
              "outlinewidth": 0,
              "ticks": ""
             }
            },
            "marker": {
             "colorbar": {
              "outlinewidth": 0,
              "ticks": ""
             }
            },
            "type": "scatter3d"
           }
          ],
          "scattercarpet": [
           {
            "marker": {
             "colorbar": {
              "outlinewidth": 0,
              "ticks": ""
             }
            },
            "type": "scattercarpet"
           }
          ],
          "scattergeo": [
           {
            "marker": {
             "colorbar": {
              "outlinewidth": 0,
              "ticks": ""
             }
            },
            "type": "scattergeo"
           }
          ],
          "scattergl": [
           {
            "marker": {
             "colorbar": {
              "outlinewidth": 0,
              "ticks": ""
             }
            },
            "type": "scattergl"
           }
          ],
          "scattermapbox": [
           {
            "marker": {
             "colorbar": {
              "outlinewidth": 0,
              "ticks": ""
             }
            },
            "type": "scattermapbox"
           }
          ],
          "scatterpolar": [
           {
            "marker": {
             "colorbar": {
              "outlinewidth": 0,
              "ticks": ""
             }
            },
            "type": "scatterpolar"
           }
          ],
          "scatterpolargl": [
           {
            "marker": {
             "colorbar": {
              "outlinewidth": 0,
              "ticks": ""
             }
            },
            "type": "scatterpolargl"
           }
          ],
          "scatterternary": [
           {
            "marker": {
             "colorbar": {
              "outlinewidth": 0,
              "ticks": ""
             }
            },
            "type": "scatterternary"
           }
          ],
          "surface": [
           {
            "colorbar": {
             "outlinewidth": 0,
             "ticks": ""
            },
            "colorscale": [
             [
              0,
              "#0d0887"
             ],
             [
              0.1111111111111111,
              "#46039f"
             ],
             [
              0.2222222222222222,
              "#7201a8"
             ],
             [
              0.3333333333333333,
              "#9c179e"
             ],
             [
              0.4444444444444444,
              "#bd3786"
             ],
             [
              0.5555555555555556,
              "#d8576b"
             ],
             [
              0.6666666666666666,
              "#ed7953"
             ],
             [
              0.7777777777777778,
              "#fb9f3a"
             ],
             [
              0.8888888888888888,
              "#fdca26"
             ],
             [
              1,
              "#f0f921"
             ]
            ],
            "type": "surface"
           }
          ],
          "table": [
           {
            "cells": {
             "fill": {
              "color": "#EBF0F8"
             },
             "line": {
              "color": "white"
             }
            },
            "header": {
             "fill": {
              "color": "#C8D4E3"
             },
             "line": {
              "color": "white"
             }
            },
            "type": "table"
           }
          ]
         },
         "layout": {
          "annotationdefaults": {
           "arrowcolor": "#2a3f5f",
           "arrowhead": 0,
           "arrowwidth": 1
          },
          "autotypenumbers": "strict",
          "coloraxis": {
           "colorbar": {
            "outlinewidth": 0,
            "ticks": ""
           }
          },
          "colorscale": {
           "diverging": [
            [
             0,
             "#8e0152"
            ],
            [
             0.1,
             "#c51b7d"
            ],
            [
             0.2,
             "#de77ae"
            ],
            [
             0.3,
             "#f1b6da"
            ],
            [
             0.4,
             "#fde0ef"
            ],
            [
             0.5,
             "#f7f7f7"
            ],
            [
             0.6,
             "#e6f5d0"
            ],
            [
             0.7,
             "#b8e186"
            ],
            [
             0.8,
             "#7fbc41"
            ],
            [
             0.9,
             "#4d9221"
            ],
            [
             1,
             "#276419"
            ]
           ],
           "sequential": [
            [
             0,
             "#0d0887"
            ],
            [
             0.1111111111111111,
             "#46039f"
            ],
            [
             0.2222222222222222,
             "#7201a8"
            ],
            [
             0.3333333333333333,
             "#9c179e"
            ],
            [
             0.4444444444444444,
             "#bd3786"
            ],
            [
             0.5555555555555556,
             "#d8576b"
            ],
            [
             0.6666666666666666,
             "#ed7953"
            ],
            [
             0.7777777777777778,
             "#fb9f3a"
            ],
            [
             0.8888888888888888,
             "#fdca26"
            ],
            [
             1,
             "#f0f921"
            ]
           ],
           "sequentialminus": [
            [
             0,
             "#0d0887"
            ],
            [
             0.1111111111111111,
             "#46039f"
            ],
            [
             0.2222222222222222,
             "#7201a8"
            ],
            [
             0.3333333333333333,
             "#9c179e"
            ],
            [
             0.4444444444444444,
             "#bd3786"
            ],
            [
             0.5555555555555556,
             "#d8576b"
            ],
            [
             0.6666666666666666,
             "#ed7953"
            ],
            [
             0.7777777777777778,
             "#fb9f3a"
            ],
            [
             0.8888888888888888,
             "#fdca26"
            ],
            [
             1,
             "#f0f921"
            ]
           ]
          },
          "colorway": [
           "#636efa",
           "#EF553B",
           "#00cc96",
           "#ab63fa",
           "#FFA15A",
           "#19d3f3",
           "#FF6692",
           "#B6E880",
           "#FF97FF",
           "#FECB52"
          ],
          "font": {
           "color": "#2a3f5f"
          },
          "geo": {
           "bgcolor": "white",
           "lakecolor": "white",
           "landcolor": "#E5ECF6",
           "showlakes": true,
           "showland": true,
           "subunitcolor": "white"
          },
          "hoverlabel": {
           "align": "left"
          },
          "hovermode": "closest",
          "mapbox": {
           "style": "light"
          },
          "paper_bgcolor": "white",
          "plot_bgcolor": "#E5ECF6",
          "polar": {
           "angularaxis": {
            "gridcolor": "white",
            "linecolor": "white",
            "ticks": ""
           },
           "bgcolor": "#E5ECF6",
           "radialaxis": {
            "gridcolor": "white",
            "linecolor": "white",
            "ticks": ""
           }
          },
          "scene": {
           "xaxis": {
            "backgroundcolor": "#E5ECF6",
            "gridcolor": "white",
            "gridwidth": 2,
            "linecolor": "white",
            "showbackground": true,
            "ticks": "",
            "zerolinecolor": "white"
           },
           "yaxis": {
            "backgroundcolor": "#E5ECF6",
            "gridcolor": "white",
            "gridwidth": 2,
            "linecolor": "white",
            "showbackground": true,
            "ticks": "",
            "zerolinecolor": "white"
           },
           "zaxis": {
            "backgroundcolor": "#E5ECF6",
            "gridcolor": "white",
            "gridwidth": 2,
            "linecolor": "white",
            "showbackground": true,
            "ticks": "",
            "zerolinecolor": "white"
           }
          },
          "shapedefaults": {
           "line": {
            "color": "#2a3f5f"
           }
          },
          "ternary": {
           "aaxis": {
            "gridcolor": "white",
            "linecolor": "white",
            "ticks": ""
           },
           "baxis": {
            "gridcolor": "white",
            "linecolor": "white",
            "ticks": ""
           },
           "bgcolor": "#E5ECF6",
           "caxis": {
            "gridcolor": "white",
            "linecolor": "white",
            "ticks": ""
           }
          },
          "title": {
           "x": 0.05
          },
          "xaxis": {
           "automargin": true,
           "gridcolor": "white",
           "linecolor": "white",
           "ticks": "",
           "title": {
            "standoff": 15
           },
           "zerolinecolor": "white",
           "zerolinewidth": 2
          },
          "yaxis": {
           "automargin": true,
           "gridcolor": "white",
           "linecolor": "white",
           "ticks": "",
           "title": {
            "standoff": 15
           },
           "zerolinecolor": "white",
           "zerolinewidth": 2
          }
         }
        },
        "title": {
         "text": "Defensive Players Plot"
        },
        "width": 1200,
        "xaxis": {
         "anchor": "y",
         "domain": [
          0,
          1
         ],
         "title": {
          "text": "expected_goals_conceded"
         }
        },
        "yaxis": {
         "anchor": "x",
         "domain": [
          0,
          1
         ],
         "title": {
          "text": "goals_conceded"
         }
        }
       }
      }
     },
     "metadata": {},
     "output_type": "display_data"
    }
   ],
   "source": [
    "### INPUTS:\n",
    "\n",
    "DEF_PRICE_MAX = 20\n",
    "DEF_ATTR_LIST = [\"value\", \"egi_per_val\", \"xP_per_val\", \"P_per_val\", \"efficiency\", \"expected_goal_involvements\"]\n",
    "DEF_IDX = -3\n",
    "\n",
    "# Plotting Code\n",
    "plot_df = def_returns_player_grouped_df[def_returns_player_grouped_df[\"value\"] <= PRICE_MAX]\n",
    "MASK = plot_df[DEF_ATTR_LIST[DEF_IDX]] > 4\n",
    "\n",
    "color = px.colors.sequential.Viridis\n",
    "if AM_ATTR_LIST[AM_IDX] == \"value\":\n",
    "    color = px.colors.sequential.Viridis_r\n",
    "    \n",
    "def_fig = px.scatter(plot_df[MASK], x= \"expected_goals_conceded\", y= \"goals_conceded\",\n",
    "           hover_name= \"name\", color= DEF_ATTR_LIST[DEF_IDX], color_continuous_scale= color, title= \"Defensive Players Plot\", width= 1200, height= 600)\n",
    "\n",
    "def_fig.show()"
   ]
  },
  {
   "cell_type": "code",
   "execution_count": null,
   "metadata": {},
   "outputs": [],
   "source": []
  }
 ],
 "metadata": {
  "kernelspec": {
   "display_name": "fpl-project",
   "language": "python",
   "name": "python3"
  },
  "language_info": {
   "codemirror_mode": {
    "name": "ipython",
    "version": 3
   },
   "file_extension": ".py",
   "mimetype": "text/x-python",
   "name": "python",
   "nbconvert_exporter": "python",
   "pygments_lexer": "ipython3",
   "version": "3.10.14"
  }
 },
 "nbformat": 4,
 "nbformat_minor": 2
}
